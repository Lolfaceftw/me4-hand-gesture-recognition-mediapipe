{
 "cells": [
  {
   "cell_type": "code",
   "execution_count": 47,
   "metadata": {},
   "outputs": [],
   "source": [
    "import csv\n",
    "\n",
    "import numpy as np\n",
    "import tensorflow as tf\n",
    "from sklearn.model_selection import train_test_split\n",
    "\n",
    "RANDOM_SEED = 42"
   ]
  },
  {
   "cell_type": "markdown",
   "metadata": {},
   "source": [
    "# 各パス指定"
   ]
  },
  {
   "cell_type": "code",
   "execution_count": 48,
   "metadata": {},
   "outputs": [],
   "source": [
    "dataset = 'model/point_history_classifier/point_history.csv'\n",
    "model_save_path = 'model/point_history_classifier/point_history_classifier.hdf5'"
   ]
  },
  {
   "cell_type": "markdown",
   "metadata": {},
   "source": [
    "# 分類数設定"
   ]
  },
  {
   "cell_type": "code",
   "execution_count": null,
   "metadata": {},
   "outputs": [],
   "source": [
    "NUM_CLASSES = 6"
   ]
  },
  {
   "cell_type": "markdown",
   "metadata": {},
   "source": [
    "# 入力長"
   ]
  },
  {
   "cell_type": "code",
   "execution_count": 50,
   "metadata": {},
   "outputs": [],
   "source": [
    "TIME_STEPS = 16\n",
    "DIMENSION = 2"
   ]
  },
  {
   "cell_type": "markdown",
   "metadata": {},
   "source": [
    "# 学習データ読み込み"
   ]
  },
  {
   "cell_type": "code",
   "execution_count": 51,
   "metadata": {},
   "outputs": [],
   "source": [
    "X_dataset = np.loadtxt(dataset, delimiter=',', dtype='float32', usecols=list(range(1, (TIME_STEPS * DIMENSION) + 1)))"
   ]
  },
  {
   "cell_type": "code",
   "execution_count": 52,
   "metadata": {},
   "outputs": [],
   "source": [
    "y_dataset = np.loadtxt(dataset, delimiter=',', dtype='int32', usecols=(0))"
   ]
  },
  {
   "cell_type": "code",
   "execution_count": 53,
   "metadata": {},
   "outputs": [],
   "source": [
    "X_train, X_test, y_train, y_test = train_test_split(X_dataset, y_dataset, train_size=0.75, random_state=RANDOM_SEED)"
   ]
  },
  {
   "cell_type": "markdown",
   "metadata": {},
   "source": [
    "# モデル構築"
   ]
  },
  {
   "cell_type": "code",
   "execution_count": 54,
   "metadata": {},
   "outputs": [],
   "source": [
    "use_lstm = False\n",
    "model = None\n",
    "\n",
    "if use_lstm:\n",
    "    model = tf.keras.models.Sequential([\n",
    "        tf.keras.layers.InputLayer(input_shape=(TIME_STEPS * DIMENSION, )),\n",
    "        tf.keras.layers.Reshape((TIME_STEPS, DIMENSION), input_shape=(TIME_STEPS * DIMENSION, )), \n",
    "        tf.keras.layers.Dropout(0.2),\n",
    "        tf.keras.layers.LSTM(16, input_shape=[TIME_STEPS, DIMENSION]),\n",
    "        tf.keras.layers.Dropout(0.5),\n",
    "        tf.keras.layers.Dense(10, activation='relu'),\n",
    "        tf.keras.layers.Dense(NUM_CLASSES, activation='softmax')\n",
    "    ])\n",
    "else:\n",
    "    model = tf.keras.models.Sequential([\n",
    "        tf.keras.layers.InputLayer(input_shape=(TIME_STEPS * DIMENSION, )),\n",
    "        tf.keras.layers.Dropout(0.2),\n",
    "        tf.keras.layers.Dense(24, activation='relu'),\n",
    "        tf.keras.layers.Dropout(0.5),\n",
    "        tf.keras.layers.Dense(10, activation='relu'),\n",
    "        tf.keras.layers.Dense(NUM_CLASSES, activation='softmax')\n",
    "    ])"
   ]
  },
  {
   "cell_type": "code",
   "execution_count": 55,
   "metadata": {},
   "outputs": [
    {
     "name": "stdout",
     "output_type": "stream",
     "text": [
      "Model: \"sequential_2\"\n",
      "_________________________________________________________________\n",
      " Layer (type)                Output Shape              Param #   \n",
      "=================================================================\n",
      " dropout_4 (Dropout)         (None, 32)                0         \n",
      "                                                                 \n",
      " dense_6 (Dense)             (None, 24)                792       \n",
      "                                                                 \n",
      " dropout_5 (Dropout)         (None, 24)                0         \n",
      "                                                                 \n",
      " dense_7 (Dense)             (None, 10)                250       \n",
      "                                                                 \n",
      " dense_8 (Dense)             (None, 5)                 55        \n",
      "                                                                 \n",
      "=================================================================\n",
      "Total params: 1097 (4.29 KB)\n",
      "Trainable params: 1097 (4.29 KB)\n",
      "Non-trainable params: 0 (0.00 Byte)\n",
      "_________________________________________________________________\n"
     ]
    }
   ],
   "source": [
    "model.summary()  # tf.keras.utils.plot_model(model, show_shapes=True)"
   ]
  },
  {
   "cell_type": "code",
   "execution_count": 56,
   "metadata": {},
   "outputs": [],
   "source": [
    "# モデルチェックポイントのコールバック\n",
    "cp_callback = tf.keras.callbacks.ModelCheckpoint(\n",
    "    model_save_path, verbose=1, save_weights_only=False)\n",
    "# 早期打ち切り用コールバック\n",
    "es_callback = tf.keras.callbacks.EarlyStopping(patience=20, verbose=1)"
   ]
  },
  {
   "cell_type": "code",
   "execution_count": 57,
   "metadata": {},
   "outputs": [],
   "source": [
    "# モデルコンパイル\n",
    "model.compile(\n",
    "    optimizer='adam',\n",
    "    loss='sparse_categorical_crossentropy',\n",
    "    metrics=['accuracy']\n",
    ")"
   ]
  },
  {
   "cell_type": "markdown",
   "metadata": {},
   "source": [
    "# モデル訓練"
   ]
  },
  {
   "cell_type": "code",
   "execution_count": 58,
   "metadata": {
    "scrolled": true
   },
   "outputs": [
    {
     "name": "stdout",
     "output_type": "stream",
     "text": [
      "Epoch 1/1000\n"
     ]
    },
    {
     "ename": "InvalidArgumentError",
     "evalue": "Graph execution error:\n\nDetected at node sparse_categorical_crossentropy/SparseSoftmaxCrossEntropyWithLogits/SparseSoftmaxCrossEntropyWithLogits defined at (most recent call last):\n  File \"C:\\Users\\Ck\\AppData\\Local\\Programs\\Python\\Python310\\lib\\runpy.py\", line 196, in _run_module_as_main\n\n  File \"C:\\Users\\Ck\\AppData\\Local\\Programs\\Python\\Python310\\lib\\runpy.py\", line 86, in _run_code\n\n  File \"c:\\Users\\Ck\\OneDrive\\UPD Docs\\III - Electronics Engineering\\Academic Units\\2nd Semester\\CoE 197Z\\ME4\\.venv\\lib\\site-packages\\ipykernel_launcher.py\", line 18, in <module>\n\n  File \"c:\\Users\\Ck\\OneDrive\\UPD Docs\\III - Electronics Engineering\\Academic Units\\2nd Semester\\CoE 197Z\\ME4\\.venv\\lib\\site-packages\\traitlets\\config\\application.py\", line 1075, in launch_instance\n\n  File \"c:\\Users\\Ck\\OneDrive\\UPD Docs\\III - Electronics Engineering\\Academic Units\\2nd Semester\\CoE 197Z\\ME4\\.venv\\lib\\site-packages\\ipykernel\\kernelapp.py\", line 739, in start\n\n  File \"c:\\Users\\Ck\\OneDrive\\UPD Docs\\III - Electronics Engineering\\Academic Units\\2nd Semester\\CoE 197Z\\ME4\\.venv\\lib\\site-packages\\tornado\\platform\\asyncio.py\", line 205, in start\n\n  File \"C:\\Users\\Ck\\AppData\\Local\\Programs\\Python\\Python310\\lib\\asyncio\\base_events.py\", line 603, in run_forever\n\n  File \"C:\\Users\\Ck\\AppData\\Local\\Programs\\Python\\Python310\\lib\\asyncio\\base_events.py\", line 1909, in _run_once\n\n  File \"C:\\Users\\Ck\\AppData\\Local\\Programs\\Python\\Python310\\lib\\asyncio\\events.py\", line 80, in _run\n\n  File \"c:\\Users\\Ck\\OneDrive\\UPD Docs\\III - Electronics Engineering\\Academic Units\\2nd Semester\\CoE 197Z\\ME4\\.venv\\lib\\site-packages\\ipykernel\\kernelbase.py\", line 545, in dispatch_queue\n\n  File \"c:\\Users\\Ck\\OneDrive\\UPD Docs\\III - Electronics Engineering\\Academic Units\\2nd Semester\\CoE 197Z\\ME4\\.venv\\lib\\site-packages\\ipykernel\\kernelbase.py\", line 534, in process_one\n\n  File \"c:\\Users\\Ck\\OneDrive\\UPD Docs\\III - Electronics Engineering\\Academic Units\\2nd Semester\\CoE 197Z\\ME4\\.venv\\lib\\site-packages\\ipykernel\\kernelbase.py\", line 437, in dispatch_shell\n\n  File \"c:\\Users\\Ck\\OneDrive\\UPD Docs\\III - Electronics Engineering\\Academic Units\\2nd Semester\\CoE 197Z\\ME4\\.venv\\lib\\site-packages\\ipykernel\\ipkernel.py\", line 362, in execute_request\n\n  File \"c:\\Users\\Ck\\OneDrive\\UPD Docs\\III - Electronics Engineering\\Academic Units\\2nd Semester\\CoE 197Z\\ME4\\.venv\\lib\\site-packages\\ipykernel\\kernelbase.py\", line 778, in execute_request\n\n  File \"c:\\Users\\Ck\\OneDrive\\UPD Docs\\III - Electronics Engineering\\Academic Units\\2nd Semester\\CoE 197Z\\ME4\\.venv\\lib\\site-packages\\ipykernel\\ipkernel.py\", line 449, in do_execute\n\n  File \"c:\\Users\\Ck\\OneDrive\\UPD Docs\\III - Electronics Engineering\\Academic Units\\2nd Semester\\CoE 197Z\\ME4\\.venv\\lib\\site-packages\\ipykernel\\zmqshell.py\", line 549, in run_cell\n\n  File \"c:\\Users\\Ck\\OneDrive\\UPD Docs\\III - Electronics Engineering\\Academic Units\\2nd Semester\\CoE 197Z\\ME4\\.venv\\lib\\site-packages\\IPython\\core\\interactiveshell.py\", line 3077, in run_cell\n\n  File \"c:\\Users\\Ck\\OneDrive\\UPD Docs\\III - Electronics Engineering\\Academic Units\\2nd Semester\\CoE 197Z\\ME4\\.venv\\lib\\site-packages\\IPython\\core\\interactiveshell.py\", line 3132, in _run_cell\n\n  File \"c:\\Users\\Ck\\OneDrive\\UPD Docs\\III - Electronics Engineering\\Academic Units\\2nd Semester\\CoE 197Z\\ME4\\.venv\\lib\\site-packages\\IPython\\core\\async_helpers.py\", line 128, in _pseudo_sync_runner\n\n  File \"c:\\Users\\Ck\\OneDrive\\UPD Docs\\III - Electronics Engineering\\Academic Units\\2nd Semester\\CoE 197Z\\ME4\\.venv\\lib\\site-packages\\IPython\\core\\interactiveshell.py\", line 3336, in run_cell_async\n\n  File \"c:\\Users\\Ck\\OneDrive\\UPD Docs\\III - Electronics Engineering\\Academic Units\\2nd Semester\\CoE 197Z\\ME4\\.venv\\lib\\site-packages\\IPython\\core\\interactiveshell.py\", line 3519, in run_ast_nodes\n\n  File \"c:\\Users\\Ck\\OneDrive\\UPD Docs\\III - Electronics Engineering\\Academic Units\\2nd Semester\\CoE 197Z\\ME4\\.venv\\lib\\site-packages\\IPython\\core\\interactiveshell.py\", line 3579, in run_code\n\n  File \"C:\\Users\\Ck\\AppData\\Local\\Temp\\ipykernel_30864\\2889966517.py\", line 1, in <module>\n\n  File \"c:\\Users\\Ck\\OneDrive\\UPD Docs\\III - Electronics Engineering\\Academic Units\\2nd Semester\\CoE 197Z\\ME4\\.venv\\lib\\site-packages\\keras\\src\\utils\\traceback_utils.py\", line 65, in error_handler\n\n  File \"c:\\Users\\Ck\\OneDrive\\UPD Docs\\III - Electronics Engineering\\Academic Units\\2nd Semester\\CoE 197Z\\ME4\\.venv\\lib\\site-packages\\keras\\src\\engine\\training.py\", line 1807, in fit\n\n  File \"c:\\Users\\Ck\\OneDrive\\UPD Docs\\III - Electronics Engineering\\Academic Units\\2nd Semester\\CoE 197Z\\ME4\\.venv\\lib\\site-packages\\keras\\src\\engine\\training.py\", line 1401, in train_function\n\n  File \"c:\\Users\\Ck\\OneDrive\\UPD Docs\\III - Electronics Engineering\\Academic Units\\2nd Semester\\CoE 197Z\\ME4\\.venv\\lib\\site-packages\\keras\\src\\engine\\training.py\", line 1384, in step_function\n\n  File \"c:\\Users\\Ck\\OneDrive\\UPD Docs\\III - Electronics Engineering\\Academic Units\\2nd Semester\\CoE 197Z\\ME4\\.venv\\lib\\site-packages\\keras\\src\\engine\\training.py\", line 1373, in run_step\n\n  File \"c:\\Users\\Ck\\OneDrive\\UPD Docs\\III - Electronics Engineering\\Academic Units\\2nd Semester\\CoE 197Z\\ME4\\.venv\\lib\\site-packages\\keras\\src\\engine\\training.py\", line 1151, in train_step\n\n  File \"c:\\Users\\Ck\\OneDrive\\UPD Docs\\III - Electronics Engineering\\Academic Units\\2nd Semester\\CoE 197Z\\ME4\\.venv\\lib\\site-packages\\keras\\src\\engine\\training.py\", line 1209, in compute_loss\n\n  File \"c:\\Users\\Ck\\OneDrive\\UPD Docs\\III - Electronics Engineering\\Academic Units\\2nd Semester\\CoE 197Z\\ME4\\.venv\\lib\\site-packages\\keras\\src\\engine\\compile_utils.py\", line 277, in __call__\n\n  File \"c:\\Users\\Ck\\OneDrive\\UPD Docs\\III - Electronics Engineering\\Academic Units\\2nd Semester\\CoE 197Z\\ME4\\.venv\\lib\\site-packages\\keras\\src\\losses.py\", line 143, in __call__\n\n  File \"c:\\Users\\Ck\\OneDrive\\UPD Docs\\III - Electronics Engineering\\Academic Units\\2nd Semester\\CoE 197Z\\ME4\\.venv\\lib\\site-packages\\keras\\src\\losses.py\", line 270, in call\n\n  File \"c:\\Users\\Ck\\OneDrive\\UPD Docs\\III - Electronics Engineering\\Academic Units\\2nd Semester\\CoE 197Z\\ME4\\.venv\\lib\\site-packages\\keras\\src\\losses.py\", line 2454, in sparse_categorical_crossentropy\n\n  File \"c:\\Users\\Ck\\OneDrive\\UPD Docs\\III - Electronics Engineering\\Academic Units\\2nd Semester\\CoE 197Z\\ME4\\.venv\\lib\\site-packages\\keras\\src\\backend.py\", line 5775, in sparse_categorical_crossentropy\n\nReceived a label value of 5 which is outside the valid range of [0, 5).  Label values: 2 3 2 2 2 0 1 0 0 3 3 0 2 3 0 1 4 5 0 5 5 1 3 2 3 2 0 3 0 1 4 0 1 0 3 1 1 3 1 0 3 3 2 1 1 5 4 2 4 1 0 3 5 1 1 2 1 2 1 1 1 0 3 1 2 3 0 0 3 2 3 3 1 0 1 1 2 4 1 0 2 3 1 2 3 4 1 0 0 5 3 1 5 0 1 3 1 2 2 2 3 4 3 1 1 1 3 3 0 2 4 5 3 3 0 3 3 4 1 1 3 2 0 0 1 0 4 0\n\t [[{{node sparse_categorical_crossentropy/SparseSoftmaxCrossEntropyWithLogits/SparseSoftmaxCrossEntropyWithLogits}}]] [Op:__inference_train_function_159459]",
     "output_type": "error",
     "traceback": [
      "\u001b[1;31m---------------------------------------------------------------------------\u001b[0m",
      "\u001b[1;31mInvalidArgumentError\u001b[0m                      Traceback (most recent call last)",
      "Cell \u001b[1;32mIn[58], line 1\u001b[0m\n\u001b[1;32m----> 1\u001b[0m \u001b[43mmodel\u001b[49m\u001b[38;5;241;43m.\u001b[39;49m\u001b[43mfit\u001b[49m\u001b[43m(\u001b[49m\n\u001b[0;32m      2\u001b[0m \u001b[43m    \u001b[49m\u001b[43mX_train\u001b[49m\u001b[43m,\u001b[49m\n\u001b[0;32m      3\u001b[0m \u001b[43m    \u001b[49m\u001b[43my_train\u001b[49m\u001b[43m,\u001b[49m\n\u001b[0;32m      4\u001b[0m \u001b[43m    \u001b[49m\u001b[43mepochs\u001b[49m\u001b[38;5;241;43m=\u001b[39;49m\u001b[38;5;241;43m1000\u001b[39;49m\u001b[43m,\u001b[49m\n\u001b[0;32m      5\u001b[0m \u001b[43m    \u001b[49m\u001b[43mbatch_size\u001b[49m\u001b[38;5;241;43m=\u001b[39;49m\u001b[38;5;241;43m128\u001b[39;49m\u001b[43m,\u001b[49m\n\u001b[0;32m      6\u001b[0m \u001b[43m    \u001b[49m\u001b[43mvalidation_data\u001b[49m\u001b[38;5;241;43m=\u001b[39;49m\u001b[43m(\u001b[49m\u001b[43mX_test\u001b[49m\u001b[43m,\u001b[49m\u001b[43m \u001b[49m\u001b[43my_test\u001b[49m\u001b[43m)\u001b[49m\u001b[43m,\u001b[49m\n\u001b[0;32m      7\u001b[0m \u001b[43m    \u001b[49m\u001b[43mcallbacks\u001b[49m\u001b[38;5;241;43m=\u001b[39;49m\u001b[43m[\u001b[49m\u001b[43mcp_callback\u001b[49m\u001b[43m,\u001b[49m\u001b[43m \u001b[49m\u001b[43mes_callback\u001b[49m\u001b[43m]\u001b[49m\n\u001b[0;32m      8\u001b[0m \u001b[43m)\u001b[49m\n",
      "File \u001b[1;32mc:\\Users\\Ck\\OneDrive\\UPD Docs\\III - Electronics Engineering\\Academic Units\\2nd Semester\\CoE 197Z\\ME4\\.venv\\lib\\site-packages\\keras\\src\\utils\\traceback_utils.py:70\u001b[0m, in \u001b[0;36mfilter_traceback.<locals>.error_handler\u001b[1;34m(*args, **kwargs)\u001b[0m\n\u001b[0;32m     67\u001b[0m     filtered_tb \u001b[38;5;241m=\u001b[39m _process_traceback_frames(e\u001b[38;5;241m.\u001b[39m__traceback__)\n\u001b[0;32m     68\u001b[0m     \u001b[38;5;66;03m# To get the full stack trace, call:\u001b[39;00m\n\u001b[0;32m     69\u001b[0m     \u001b[38;5;66;03m# `tf.debugging.disable_traceback_filtering()`\u001b[39;00m\n\u001b[1;32m---> 70\u001b[0m     \u001b[38;5;28;01mraise\u001b[39;00m e\u001b[38;5;241m.\u001b[39mwith_traceback(filtered_tb) \u001b[38;5;28;01mfrom\u001b[39;00m\u001b[38;5;250m \u001b[39m\u001b[38;5;28;01mNone\u001b[39;00m\n\u001b[0;32m     71\u001b[0m \u001b[38;5;28;01mfinally\u001b[39;00m:\n\u001b[0;32m     72\u001b[0m     \u001b[38;5;28;01mdel\u001b[39;00m filtered_tb\n",
      "File \u001b[1;32mc:\\Users\\Ck\\OneDrive\\UPD Docs\\III - Electronics Engineering\\Academic Units\\2nd Semester\\CoE 197Z\\ME4\\.venv\\lib\\site-packages\\tensorflow\\python\\eager\\execute.py:53\u001b[0m, in \u001b[0;36mquick_execute\u001b[1;34m(op_name, num_outputs, inputs, attrs, ctx, name)\u001b[0m\n\u001b[0;32m     51\u001b[0m \u001b[38;5;28;01mtry\u001b[39;00m:\n\u001b[0;32m     52\u001b[0m   ctx\u001b[38;5;241m.\u001b[39mensure_initialized()\n\u001b[1;32m---> 53\u001b[0m   tensors \u001b[38;5;241m=\u001b[39m pywrap_tfe\u001b[38;5;241m.\u001b[39mTFE_Py_Execute(ctx\u001b[38;5;241m.\u001b[39m_handle, device_name, op_name,\n\u001b[0;32m     54\u001b[0m                                       inputs, attrs, num_outputs)\n\u001b[0;32m     55\u001b[0m \u001b[38;5;28;01mexcept\u001b[39;00m core\u001b[38;5;241m.\u001b[39m_NotOkStatusException \u001b[38;5;28;01mas\u001b[39;00m e:\n\u001b[0;32m     56\u001b[0m   \u001b[38;5;28;01mif\u001b[39;00m name \u001b[38;5;129;01mis\u001b[39;00m \u001b[38;5;129;01mnot\u001b[39;00m \u001b[38;5;28;01mNone\u001b[39;00m:\n",
      "\u001b[1;31mInvalidArgumentError\u001b[0m: Graph execution error:\n\nDetected at node sparse_categorical_crossentropy/SparseSoftmaxCrossEntropyWithLogits/SparseSoftmaxCrossEntropyWithLogits defined at (most recent call last):\n  File \"C:\\Users\\Ck\\AppData\\Local\\Programs\\Python\\Python310\\lib\\runpy.py\", line 196, in _run_module_as_main\n\n  File \"C:\\Users\\Ck\\AppData\\Local\\Programs\\Python\\Python310\\lib\\runpy.py\", line 86, in _run_code\n\n  File \"c:\\Users\\Ck\\OneDrive\\UPD Docs\\III - Electronics Engineering\\Academic Units\\2nd Semester\\CoE 197Z\\ME4\\.venv\\lib\\site-packages\\ipykernel_launcher.py\", line 18, in <module>\n\n  File \"c:\\Users\\Ck\\OneDrive\\UPD Docs\\III - Electronics Engineering\\Academic Units\\2nd Semester\\CoE 197Z\\ME4\\.venv\\lib\\site-packages\\traitlets\\config\\application.py\", line 1075, in launch_instance\n\n  File \"c:\\Users\\Ck\\OneDrive\\UPD Docs\\III - Electronics Engineering\\Academic Units\\2nd Semester\\CoE 197Z\\ME4\\.venv\\lib\\site-packages\\ipykernel\\kernelapp.py\", line 739, in start\n\n  File \"c:\\Users\\Ck\\OneDrive\\UPD Docs\\III - Electronics Engineering\\Academic Units\\2nd Semester\\CoE 197Z\\ME4\\.venv\\lib\\site-packages\\tornado\\platform\\asyncio.py\", line 205, in start\n\n  File \"C:\\Users\\Ck\\AppData\\Local\\Programs\\Python\\Python310\\lib\\asyncio\\base_events.py\", line 603, in run_forever\n\n  File \"C:\\Users\\Ck\\AppData\\Local\\Programs\\Python\\Python310\\lib\\asyncio\\base_events.py\", line 1909, in _run_once\n\n  File \"C:\\Users\\Ck\\AppData\\Local\\Programs\\Python\\Python310\\lib\\asyncio\\events.py\", line 80, in _run\n\n  File \"c:\\Users\\Ck\\OneDrive\\UPD Docs\\III - Electronics Engineering\\Academic Units\\2nd Semester\\CoE 197Z\\ME4\\.venv\\lib\\site-packages\\ipykernel\\kernelbase.py\", line 545, in dispatch_queue\n\n  File \"c:\\Users\\Ck\\OneDrive\\UPD Docs\\III - Electronics Engineering\\Academic Units\\2nd Semester\\CoE 197Z\\ME4\\.venv\\lib\\site-packages\\ipykernel\\kernelbase.py\", line 534, in process_one\n\n  File \"c:\\Users\\Ck\\OneDrive\\UPD Docs\\III - Electronics Engineering\\Academic Units\\2nd Semester\\CoE 197Z\\ME4\\.venv\\lib\\site-packages\\ipykernel\\kernelbase.py\", line 437, in dispatch_shell\n\n  File \"c:\\Users\\Ck\\OneDrive\\UPD Docs\\III - Electronics Engineering\\Academic Units\\2nd Semester\\CoE 197Z\\ME4\\.venv\\lib\\site-packages\\ipykernel\\ipkernel.py\", line 362, in execute_request\n\n  File \"c:\\Users\\Ck\\OneDrive\\UPD Docs\\III - Electronics Engineering\\Academic Units\\2nd Semester\\CoE 197Z\\ME4\\.venv\\lib\\site-packages\\ipykernel\\kernelbase.py\", line 778, in execute_request\n\n  File \"c:\\Users\\Ck\\OneDrive\\UPD Docs\\III - Electronics Engineering\\Academic Units\\2nd Semester\\CoE 197Z\\ME4\\.venv\\lib\\site-packages\\ipykernel\\ipkernel.py\", line 449, in do_execute\n\n  File \"c:\\Users\\Ck\\OneDrive\\UPD Docs\\III - Electronics Engineering\\Academic Units\\2nd Semester\\CoE 197Z\\ME4\\.venv\\lib\\site-packages\\ipykernel\\zmqshell.py\", line 549, in run_cell\n\n  File \"c:\\Users\\Ck\\OneDrive\\UPD Docs\\III - Electronics Engineering\\Academic Units\\2nd Semester\\CoE 197Z\\ME4\\.venv\\lib\\site-packages\\IPython\\core\\interactiveshell.py\", line 3077, in run_cell\n\n  File \"c:\\Users\\Ck\\OneDrive\\UPD Docs\\III - Electronics Engineering\\Academic Units\\2nd Semester\\CoE 197Z\\ME4\\.venv\\lib\\site-packages\\IPython\\core\\interactiveshell.py\", line 3132, in _run_cell\n\n  File \"c:\\Users\\Ck\\OneDrive\\UPD Docs\\III - Electronics Engineering\\Academic Units\\2nd Semester\\CoE 197Z\\ME4\\.venv\\lib\\site-packages\\IPython\\core\\async_helpers.py\", line 128, in _pseudo_sync_runner\n\n  File \"c:\\Users\\Ck\\OneDrive\\UPD Docs\\III - Electronics Engineering\\Academic Units\\2nd Semester\\CoE 197Z\\ME4\\.venv\\lib\\site-packages\\IPython\\core\\interactiveshell.py\", line 3336, in run_cell_async\n\n  File \"c:\\Users\\Ck\\OneDrive\\UPD Docs\\III - Electronics Engineering\\Academic Units\\2nd Semester\\CoE 197Z\\ME4\\.venv\\lib\\site-packages\\IPython\\core\\interactiveshell.py\", line 3519, in run_ast_nodes\n\n  File \"c:\\Users\\Ck\\OneDrive\\UPD Docs\\III - Electronics Engineering\\Academic Units\\2nd Semester\\CoE 197Z\\ME4\\.venv\\lib\\site-packages\\IPython\\core\\interactiveshell.py\", line 3579, in run_code\n\n  File \"C:\\Users\\Ck\\AppData\\Local\\Temp\\ipykernel_30864\\2889966517.py\", line 1, in <module>\n\n  File \"c:\\Users\\Ck\\OneDrive\\UPD Docs\\III - Electronics Engineering\\Academic Units\\2nd Semester\\CoE 197Z\\ME4\\.venv\\lib\\site-packages\\keras\\src\\utils\\traceback_utils.py\", line 65, in error_handler\n\n  File \"c:\\Users\\Ck\\OneDrive\\UPD Docs\\III - Electronics Engineering\\Academic Units\\2nd Semester\\CoE 197Z\\ME4\\.venv\\lib\\site-packages\\keras\\src\\engine\\training.py\", line 1807, in fit\n\n  File \"c:\\Users\\Ck\\OneDrive\\UPD Docs\\III - Electronics Engineering\\Academic Units\\2nd Semester\\CoE 197Z\\ME4\\.venv\\lib\\site-packages\\keras\\src\\engine\\training.py\", line 1401, in train_function\n\n  File \"c:\\Users\\Ck\\OneDrive\\UPD Docs\\III - Electronics Engineering\\Academic Units\\2nd Semester\\CoE 197Z\\ME4\\.venv\\lib\\site-packages\\keras\\src\\engine\\training.py\", line 1384, in step_function\n\n  File \"c:\\Users\\Ck\\OneDrive\\UPD Docs\\III - Electronics Engineering\\Academic Units\\2nd Semester\\CoE 197Z\\ME4\\.venv\\lib\\site-packages\\keras\\src\\engine\\training.py\", line 1373, in run_step\n\n  File \"c:\\Users\\Ck\\OneDrive\\UPD Docs\\III - Electronics Engineering\\Academic Units\\2nd Semester\\CoE 197Z\\ME4\\.venv\\lib\\site-packages\\keras\\src\\engine\\training.py\", line 1151, in train_step\n\n  File \"c:\\Users\\Ck\\OneDrive\\UPD Docs\\III - Electronics Engineering\\Academic Units\\2nd Semester\\CoE 197Z\\ME4\\.venv\\lib\\site-packages\\keras\\src\\engine\\training.py\", line 1209, in compute_loss\n\n  File \"c:\\Users\\Ck\\OneDrive\\UPD Docs\\III - Electronics Engineering\\Academic Units\\2nd Semester\\CoE 197Z\\ME4\\.venv\\lib\\site-packages\\keras\\src\\engine\\compile_utils.py\", line 277, in __call__\n\n  File \"c:\\Users\\Ck\\OneDrive\\UPD Docs\\III - Electronics Engineering\\Academic Units\\2nd Semester\\CoE 197Z\\ME4\\.venv\\lib\\site-packages\\keras\\src\\losses.py\", line 143, in __call__\n\n  File \"c:\\Users\\Ck\\OneDrive\\UPD Docs\\III - Electronics Engineering\\Academic Units\\2nd Semester\\CoE 197Z\\ME4\\.venv\\lib\\site-packages\\keras\\src\\losses.py\", line 270, in call\n\n  File \"c:\\Users\\Ck\\OneDrive\\UPD Docs\\III - Electronics Engineering\\Academic Units\\2nd Semester\\CoE 197Z\\ME4\\.venv\\lib\\site-packages\\keras\\src\\losses.py\", line 2454, in sparse_categorical_crossentropy\n\n  File \"c:\\Users\\Ck\\OneDrive\\UPD Docs\\III - Electronics Engineering\\Academic Units\\2nd Semester\\CoE 197Z\\ME4\\.venv\\lib\\site-packages\\keras\\src\\backend.py\", line 5775, in sparse_categorical_crossentropy\n\nReceived a label value of 5 which is outside the valid range of [0, 5).  Label values: 2 3 2 2 2 0 1 0 0 3 3 0 2 3 0 1 4 5 0 5 5 1 3 2 3 2 0 3 0 1 4 0 1 0 3 1 1 3 1 0 3 3 2 1 1 5 4 2 4 1 0 3 5 1 1 2 1 2 1 1 1 0 3 1 2 3 0 0 3 2 3 3 1 0 1 1 2 4 1 0 2 3 1 2 3 4 1 0 0 5 3 1 5 0 1 3 1 2 2 2 3 4 3 1 1 1 3 3 0 2 4 5 3 3 0 3 3 4 1 1 3 2 0 0 1 0 4 0\n\t [[{{node sparse_categorical_crossentropy/SparseSoftmaxCrossEntropyWithLogits/SparseSoftmaxCrossEntropyWithLogits}}]] [Op:__inference_train_function_159459]"
     ]
    }
   ],
   "source": [
    "model.fit(\n",
    "    X_train,\n",
    "    y_train,\n",
    "    epochs=1000,\n",
    "    batch_size=128,\n",
    "    validation_data=(X_test, y_test),\n",
    "    callbacks=[cp_callback, es_callback]\n",
    ")"
   ]
  },
  {
   "cell_type": "code",
   "execution_count": null,
   "metadata": {},
   "outputs": [],
   "source": [
    "# 保存したモデルのロード\n",
    "model = tf.keras.models.load_model(model_save_path)"
   ]
  },
  {
   "cell_type": "code",
   "execution_count": null,
   "metadata": {},
   "outputs": [
    {
     "name": "stdout",
     "output_type": "stream",
     "text": [
      "1/1 [==============================] - 0s 38ms/step\n",
      "[5.6224889e-01 4.5786213e-14 1.2783163e-14 8.1353579e-03 4.2961577e-01]\n",
      "0\n"
     ]
    }
   ],
   "source": [
    "# 推論テスト\n",
    "predict_result = model.predict(np.array([X_test[0]]))\n",
    "print(np.squeeze(predict_result))\n",
    "print(np.argmax(np.squeeze(predict_result)))"
   ]
  },
  {
   "cell_type": "markdown",
   "metadata": {},
   "source": [
    "# 混同行列"
   ]
  },
  {
   "cell_type": "code",
   "execution_count": null,
   "metadata": {},
   "outputs": [
    {
     "name": "stdout",
     "output_type": "stream",
     "text": [
      "47/47 [==============================] - 0s 602us/step\n"
     ]
    },
    {
     "data": {
      "image/png": "[encoded data removed]",
      "text/plain": [
       "<Figure size 700x600 with 2 Axes>"
      ]
     },
     "metadata": {},
     "output_type": "display_data"
    },
    {
     "name": "stdout",
     "output_type": "stream",
     "text": [
      "Classification Report\n",
      "              precision    recall  f1-score   support\n",
      "\n",
      "           0       0.97      0.98      0.98       430\n",
      "           1       0.91      0.98      0.95       308\n",
      "           2       0.92      0.96      0.94       294\n",
      "           3       0.79      0.80      0.80       324\n",
      "           4       0.79      0.52      0.63       122\n",
      "\n",
      "    accuracy                           0.90      1478\n",
      "   macro avg       0.88      0.85      0.86      1478\n",
      "weighted avg       0.90      0.90      0.90      1478\n",
      "\n"
     ]
    }
   ],
   "source": [
    "import pandas as pd\n",
    "import seaborn as sns\n",
    "import matplotlib.pyplot as plt\n",
    "from sklearn.metrics import confusion_matrix, classification_report\n",
    "\n",
    "def print_confusion_matrix(y_true, y_pred, report=True):\n",
    "    labels = sorted(list(set(y_true)))\n",
    "    cmx_data = confusion_matrix(y_true, y_pred, labels=labels)\n",
    "    \n",
    "    df_cmx = pd.DataFrame(cmx_data, index=labels, columns=labels)\n",
    " \n",
    "    fig, ax = plt.subplots(figsize=(7, 6))\n",
    "    sns.heatmap(df_cmx, annot=True, fmt='g' ,square=False)\n",
    "    ax.set_ylim(len(set(y_true)), 0)\n",
    "    plt.show()\n",
    "    \n",
    "    if report:\n",
    "        print('Classification Report')\n",
    "        print(classification_report(y_test, y_pred))\n",
    "\n",
    "Y_pred = model.predict(X_test)\n",
    "y_pred = np.argmax(Y_pred, axis=1)\n",
    "\n",
    "print_confusion_matrix(y_test, y_pred)"
   ]
  },
  {
   "cell_type": "markdown",
   "metadata": {},
   "source": [
    "# Tensorflow-Lite用のモデルへ変換"
   ]
  },
  {
   "cell_type": "code",
   "execution_count": null,
   "metadata": {},
   "outputs": [
    {
     "name": "stdout",
     "output_type": "stream",
     "text": [
      "WARNING:tensorflow:No training configuration found in the save file, so the model was *not* compiled. Compile it manually.\n"
     ]
    },
    {
     "name": "stderr",
     "output_type": "stream",
     "text": [
      "c:\\Users\\Ck\\OneDrive\\UPD Docs\\III - Electronics Engineering\\Academic Units\\2nd Semester\\CoE 197Z\\ME4\\.venv\\lib\\site-packages\\keras\\src\\engine\\training.py:3103: UserWarning: You are saving your model as an HDF5 file via `model.save()`. This file format is considered legacy. We recommend using instead the native Keras format, e.g. `model.save('my_model.keras')`.\n",
      "  saving_api.save_model(\n",
      "WARNING:tensorflow:No training configuration found in the save file, so the model was *not* compiled. Compile it manually.\n"
     ]
    }
   ],
   "source": [
    "# 推論専用のモデルとして保存\n",
    "model.save(model_save_path, include_optimizer=False)\n",
    "model = tf.keras.models.load_model(model_save_path)"
   ]
  },
  {
   "cell_type": "code",
   "execution_count": null,
   "metadata": {},
   "outputs": [],
   "source": [
    "tflite_save_path = 'model/point_history_classifier/point_history_classifier.tflite'"
   ]
  },
  {
   "cell_type": "code",
   "execution_count": null,
   "metadata": {},
   "outputs": [
    {
     "name": "stdout",
     "output_type": "stream",
     "text": [
      "INFO:tensorflow:Assets written to: C:\\Users\\Ck\\AppData\\Local\\Temp\\tmpr8luu2zw\\assets\n"
     ]
    },
    {
     "name": "stderr",
     "output_type": "stream",
     "text": [
      "INFO:tensorflow:Assets written to: C:\\Users\\Ck\\AppData\\Local\\Temp\\tmpr8luu2zw\\assets\n"
     ]
    },
    {
     "data": {
      "text/plain": [
       "6504"
      ]
     },
     "execution_count": 41,
     "metadata": {},
     "output_type": "execute_result"
    }
   ],
   "source": [
    "# モデルを変換(量子化\n",
    "converter = tf.lite.TFLiteConverter.from_keras_model(model)  # converter = tf.lite.TFLiteConverter.from_saved_model(saved_model_path)\n",
    "converter.optimizations = [tf.lite.Optimize.DEFAULT]\n",
    "tflite_quantized_model = converter.convert()\n",
    "\n",
    "open(tflite_save_path, 'wb').write(tflite_quantized_model)"
   ]
  },
  {
   "cell_type": "markdown",
   "metadata": {},
   "source": [
    "# 推論テスト"
   ]
  },
  {
   "cell_type": "code",
   "execution_count": null,
   "metadata": {},
   "outputs": [],
   "source": [
    "interpreter = tf.lite.Interpreter(model_path=tflite_save_path)\n",
    "interpreter.allocate_tensors()"
   ]
  },
  {
   "cell_type": "code",
   "execution_count": null,
   "metadata": {},
   "outputs": [
    {
     "name": "stdout",
     "output_type": "stream",
     "text": [
      "[{'name': 'serving_default_input_2:0', 'index': 0, 'shape': array([ 1, 32]), 'shape_signature': array([-1, 32]), 'dtype': <class 'numpy.float32'>, 'quantization': (0.0, 0), 'quantization_parameters': {'scales': array([], dtype=float32), 'zero_points': array([], dtype=int32), 'quantized_dimension': 0}, 'sparsity_parameters': {}}]\n"
     ]
    }
   ],
   "source": [
    "# 入出力テンソルを取得\n",
    "input_details = interpreter.get_input_details()\n",
    "output_details = interpreter.get_output_details()\n",
    "print(input_details)"
   ]
  },
  {
   "cell_type": "code",
   "execution_count": null,
   "metadata": {},
   "outputs": [],
   "source": [
    "interpreter.set_tensor(input_details[0]['index'], np.array([X_test[0]]))"
   ]
  },
  {
   "cell_type": "code",
   "execution_count": null,
   "metadata": {},
   "outputs": [
    {
     "name": "stdout",
     "output_type": "stream",
     "text": [
      "CPU times: total: 0 ns\n",
      "Wall time: 0 ns\n"
     ]
    }
   ],
   "source": [
    "%%time\n",
    "# 推論実施\n",
    "interpreter.invoke()\n",
    "tflite_results = interpreter.get_tensor(output_details[0]['index'])"
   ]
  },
  {
   "cell_type": "code",
   "execution_count": null,
   "metadata": {},
   "outputs": [
    {
     "name": "stdout",
     "output_type": "stream",
     "text": [
      "[5.6224912e-01 4.5786227e-14 1.2783167e-14 8.1353569e-03 4.2961553e-01]\n",
      "0\n"
     ]
    }
   ],
   "source": [
    "print(np.squeeze(tflite_results))\n",
    "print(np.argmax(np.squeeze(tflite_results)))"
   ]
  }
 ],
 "metadata": {
  "kernelspec": {
   "display_name": ".venv",
   "language": "python",
   "name": "python3"
  },
  "language_info": {
   "codemirror_mode": {
    "name": "ipython",
    "version": 3
   },
   "file_extension": ".py",
   "mimetype": "text/x-python",
   "name": "python",
   "nbconvert_exporter": "python",
   "pygments_lexer": "ipython3",
   "version": "3.10.11"
  }
 },
 "nbformat": 4,
 "nbformat_minor": 4
}
