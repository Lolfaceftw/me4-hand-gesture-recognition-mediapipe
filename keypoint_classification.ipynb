{
 "cells": [
  {
   "cell_type": "code",
   "execution_count": 46,
   "metadata": {},
   "outputs": [],
   "source": [
    "import csv\n",
    "\n",
    "import numpy as np\n",
    "import tensorflow as tf\n",
    "from sklearn.model_selection import train_test_split\n",
    "\n",
    "RANDOM_SEED = 42"
   ]
  },
  {
   "cell_type": "markdown",
   "metadata": {},
   "source": [
    "# 各パス指定"
   ]
  },
  {
   "cell_type": "code",
   "execution_count": 47,
   "metadata": {},
   "outputs": [],
   "source": [
    "dataset = 'model/keypoint_classifier/keypoint.csv'\n",
    "model_save_path = 'model/keypoint_classifier/keypoint_classifier.hdf5'"
   ]
  },
  {
   "cell_type": "markdown",
   "metadata": {},
   "source": [
    "# 分類数設定"
   ]
  },
  {
   "cell_type": "code",
   "execution_count": 48,
   "metadata": {},
   "outputs": [],
   "source": [
    "NUM_CLASSES = 5"
   ]
  },
  {
   "cell_type": "markdown",
   "metadata": {},
   "source": [
    "# 学習データ読み込み"
   ]
  },
  {
   "cell_type": "code",
   "execution_count": 49,
   "metadata": {},
   "outputs": [],
   "source": [
    "X_dataset = np.loadtxt(dataset, delimiter=',', dtype='float32', usecols=list(range(1, (21 * 2) + 1)))"
   ]
  },
  {
   "cell_type": "code",
   "execution_count": 50,
   "metadata": {},
   "outputs": [],
   "source": [
    "y_dataset = np.loadtxt(dataset, delimiter=',', dtype='int32', usecols=(0))"
   ]
  },
  {
   "cell_type": "code",
   "execution_count": 51,
   "metadata": {},
   "outputs": [],
   "source": [
    "X_train, X_test, y_train, y_test = train_test_split(X_dataset, y_dataset, train_size=0.75, random_state=RANDOM_SEED)"
   ]
  },
  {
   "cell_type": "markdown",
   "metadata": {},
   "source": [
    "# モデル構築"
   ]
  },
  {
   "cell_type": "code",
   "execution_count": 52,
   "metadata": {},
   "outputs": [],
   "source": [
    "model = tf.keras.models.Sequential([\n",
    "    tf.keras.layers.Input((21 * 2, )),\n",
    "    tf.keras.layers.Dropout(0.2),\n",
    "    tf.keras.layers.Dense(20, activation='relu'),\n",
    "    tf.keras.layers.Dropout(0.4),\n",
    "    tf.keras.layers.Dense(10, activation='relu'),\n",
    "    tf.keras.layers.Dense(NUM_CLASSES, activation='softmax')\n",
    "])"
   ]
  },
  {
   "cell_type": "code",
   "execution_count": 53,
   "metadata": {},
   "outputs": [
    {
     "name": "stdout",
     "output_type": "stream",
     "text": [
      "Model: \"sequential_2\"\n",
      "_________________________________________________________________\n",
      " Layer (type)                Output Shape              Param #   \n",
      "=================================================================\n",
      " dropout_4 (Dropout)         (None, 42)                0         \n",
      "                                                                 \n",
      " dense_6 (Dense)             (None, 20)                860       \n",
      "                                                                 \n",
      " dropout_5 (Dropout)         (None, 20)                0         \n",
      "                                                                 \n",
      " dense_7 (Dense)             (None, 10)                210       \n",
      "                                                                 \n",
      " dense_8 (Dense)             (None, 5)                 55        \n",
      "                                                                 \n",
      "=================================================================\n",
      "Total params: 1125 (4.39 KB)\n",
      "Trainable params: 1125 (4.39 KB)\n",
      "Non-trainable params: 0 (0.00 Byte)\n",
      "_________________________________________________________________\n"
     ]
    }
   ],
   "source": [
    "model.summary()  # tf.keras.utils.plot_model(model, show_shapes=True)"
   ]
  },
  {
   "cell_type": "code",
   "execution_count": 54,
   "metadata": {},
   "outputs": [],
   "source": [
    "# モデルチェックポイントのコールバック\n",
    "cp_callback = tf.keras.callbacks.ModelCheckpoint(\n",
    "    model_save_path, verbose=1, save_weights_only=False)\n",
    "# 早期打ち切り用コールバック\n",
    "es_callback = tf.keras.callbacks.EarlyStopping(patience=20, verbose=1)"
   ]
  },
  {
   "cell_type": "code",
   "execution_count": 55,
   "metadata": {},
   "outputs": [],
   "source": [
    "# モデルコンパイル\n",
    "model.compile(\n",
    "    optimizer='adam',\n",
    "    loss='sparse_categorical_crossentropy',\n",
    "    metrics=['accuracy']\n",
    ")"
   ]
  },
  {
   "cell_type": "markdown",
   "metadata": {},
   "source": [
    "# モデル訓練"
   ]
  },
  {
   "cell_type": "code",
   "execution_count": 56,
   "metadata": {
    "scrolled": true
   },
   "outputs": [
    {
     "name": "stdout",
     "output_type": "stream",
     "text": [
      "Epoch 1/1000\n",
      " 1/30 [>.............................] - ETA: 17s - loss: 1.7398 - accuracy: 0.1172\n",
      "Epoch 1: saving model to model/keypoint_classifier\\keypoint_classifier.hdf5\n",
      "30/30 [==============================] - 1s 5ms/step - loss: 1.6489 - accuracy: 0.2286 - val_loss: 1.5117 - val_accuracy: 0.3907\n",
      "Epoch 2/1000\n",
      " 1/30 [>.............................] - ETA: 0s - loss: 1.5028 - accuracy: 0.3203\n",
      "Epoch 2: saving model to model/keypoint_classifier\\keypoint_classifier.hdf5\n",
      "30/30 [==============================] - 0s 2ms/step - loss: 1.4955 - accuracy: 0.3204 - val_loss: 1.4032 - val_accuracy: 0.4083\n",
      "Epoch 3/1000\n",
      " 1/30 [>.............................] - ETA: 0s - loss: 1.4603 - accuracy: 0.3516\n",
      "Epoch 3: saving model to model/keypoint_classifier\\keypoint_classifier.hdf5\n",
      "30/30 [==============================] - 0s 2ms/step - loss: 1.3990 - accuracy: 0.3733 - val_loss: 1.3146 - val_accuracy: 0.4259\n",
      "Epoch 4/1000\n",
      " 1/30 [>.............................] - ETA: 0s - loss: 1.3217 - accuracy: 0.3672"
     ]
    },
    {
     "name": "stderr",
     "output_type": "stream",
     "text": [
      "c:\\Users\\Ck\\OneDrive\\UPD Docs\\III - Electronics Engineering\\Academic Units\\2nd Semester\\CoE 197Z\\ME4\\.venv\\lib\\site-packages\\keras\\src\\engine\\training.py:3103: UserWarning: You are saving your model as an HDF5 file via `model.save()`. This file format is considered legacy. We recommend using instead the native Keras format, e.g. `model.save('my_model.keras')`.\n",
      "  saving_api.save_model(\n"
     ]
    },
    {
     "name": "stdout",
     "output_type": "stream",
     "text": [
      "\n",
      "Epoch 4: saving model to model/keypoint_classifier\\keypoint_classifier.hdf5\n",
      "30/30 [==============================] - 0s 2ms/step - loss: 1.3286 - accuracy: 0.4043 - val_loss: 1.2368 - val_accuracy: 0.4700\n",
      "Epoch 5/1000\n",
      " 1/30 [>.............................] - ETA: 0s - loss: 1.3330 - accuracy: 0.4141\n",
      "Epoch 5: saving model to model/keypoint_classifier\\keypoint_classifier.hdf5\n",
      "30/30 [==============================] - 0s 2ms/step - loss: 1.2825 - accuracy: 0.4131 - val_loss: 1.1692 - val_accuracy: 0.4844\n",
      "Epoch 6/1000\n",
      " 1/30 [>.............................] - ETA: 0s - loss: 1.2277 - accuracy: 0.4219\n",
      "Epoch 6: saving model to model/keypoint_classifier\\keypoint_classifier.hdf5\n",
      "30/30 [==============================] - 0s 2ms/step - loss: 1.2295 - accuracy: 0.4441 - val_loss: 1.1037 - val_accuracy: 0.5596\n",
      "Epoch 7/1000\n",
      " 1/30 [>.............................] - ETA: 0s - loss: 1.1410 - accuracy: 0.4844\n",
      "Epoch 7: saving model to model/keypoint_classifier\\keypoint_classifier.hdf5\n",
      "30/30 [==============================] - 0s 2ms/step - loss: 1.1709 - accuracy: 0.4753 - val_loss: 1.0296 - val_accuracy: 0.6101\n",
      "Epoch 8/1000\n",
      " 1/30 [>.............................] - ETA: 0s - loss: 1.1376 - accuracy: 0.5000\n",
      "Epoch 8: saving model to model/keypoint_classifier\\keypoint_classifier.hdf5\n",
      "30/30 [==============================] - 0s 2ms/step - loss: 1.1175 - accuracy: 0.5130 - val_loss: 0.9513 - val_accuracy: 0.6934\n",
      "Epoch 9/1000\n",
      " 1/30 [>.............................] - ETA: 0s - loss: 1.1436 - accuracy: 0.4922\n",
      "Epoch 9: saving model to model/keypoint_classifier\\keypoint_classifier.hdf5\n",
      "30/30 [==============================] - 0s 3ms/step - loss: 1.0779 - accuracy: 0.5378 - val_loss: 0.8864 - val_accuracy: 0.7678\n",
      "Epoch 10/1000\n",
      " 1/30 [>.............................] - ETA: 0s - loss: 1.0657 - accuracy: 0.5938\n",
      "Epoch 10: saving model to model/keypoint_classifier\\keypoint_classifier.hdf5\n",
      "30/30 [==============================] - 0s 2ms/step - loss: 1.0354 - accuracy: 0.5672 - val_loss: 0.8253 - val_accuracy: 0.7894\n",
      "Epoch 11/1000\n",
      " 1/30 [>.............................] - ETA: 0s - loss: 1.0009 - accuracy: 0.6484\n",
      "Epoch 11: saving model to model/keypoint_classifier\\keypoint_classifier.hdf5\n",
      "30/30 [==============================] - 0s 2ms/step - loss: 0.9928 - accuracy: 0.5891 - val_loss: 0.7703 - val_accuracy: 0.8199\n",
      "Epoch 12/1000\n",
      " 1/30 [>.............................] - ETA: 0s - loss: 0.9663 - accuracy: 0.5938\n",
      "Epoch 12: saving model to model/keypoint_classifier\\keypoint_classifier.hdf5\n",
      "30/30 [==============================] - 0s 3ms/step - loss: 0.9811 - accuracy: 0.6043 - val_loss: 0.7285 - val_accuracy: 0.8455\n",
      "Epoch 13/1000\n",
      " 1/30 [>.............................] - ETA: 0s - loss: 1.1204 - accuracy: 0.4844\n",
      "Epoch 13: saving model to model/keypoint_classifier\\keypoint_classifier.hdf5\n",
      "30/30 [==============================] - 0s 3ms/step - loss: 0.9452 - accuracy: 0.6077 - val_loss: 0.6940 - val_accuracy: 0.8327\n",
      "Epoch 14/1000\n",
      " 1/30 [>.............................] - ETA: 0s - loss: 1.1401 - accuracy: 0.5469\n",
      "Epoch 14: saving model to model/keypoint_classifier\\keypoint_classifier.hdf5\n",
      "30/30 [==============================] - 0s 2ms/step - loss: 0.9128 - accuracy: 0.6291 - val_loss: 0.6622 - val_accuracy: 0.8399\n",
      "Epoch 15/1000\n",
      " 1/30 [>.............................] - ETA: 0s - loss: 0.8544 - accuracy: 0.7109\n",
      "Epoch 15: saving model to model/keypoint_classifier\\keypoint_classifier.hdf5\n",
      "30/30 [==============================] - 0s 2ms/step - loss: 0.9058 - accuracy: 0.6414 - val_loss: 0.6375 - val_accuracy: 0.8647\n",
      "Epoch 16/1000\n",
      " 1/30 [>.............................] - ETA: 0s - loss: 0.9252 - accuracy: 0.6172\n",
      "Epoch 16: saving model to model/keypoint_classifier\\keypoint_classifier.hdf5\n",
      "30/30 [==============================] - 0s 2ms/step - loss: 0.8926 - accuracy: 0.6403 - val_loss: 0.6148 - val_accuracy: 0.8567\n",
      "Epoch 17/1000\n",
      " 1/30 [>.............................] - ETA: 0s - loss: 0.9222 - accuracy: 0.6562\n",
      "Epoch 17: saving model to model/keypoint_classifier\\keypoint_classifier.hdf5\n",
      "30/30 [==============================] - 0s 3ms/step - loss: 0.8819 - accuracy: 0.6505 - val_loss: 0.5939 - val_accuracy: 0.8671\n",
      "Epoch 18/1000\n",
      " 1/30 [>.............................] - ETA: 0s - loss: 0.8282 - accuracy: 0.6172\n",
      "Epoch 18: saving model to model/keypoint_classifier\\keypoint_classifier.hdf5\n",
      "30/30 [==============================] - 0s 3ms/step - loss: 0.8508 - accuracy: 0.6644 - val_loss: 0.5807 - val_accuracy: 0.8575\n",
      "Epoch 19/1000\n",
      " 1/30 [>.............................] - ETA: 0s - loss: 0.8583 - accuracy: 0.7188\n",
      "Epoch 19: saving model to model/keypoint_classifier\\keypoint_classifier.hdf5\n",
      "30/30 [==============================] - 0s 2ms/step - loss: 0.8399 - accuracy: 0.6633 - val_loss: 0.5616 - val_accuracy: 0.8695\n",
      "Epoch 20/1000\n",
      " 1/30 [>.............................] - ETA: 0s - loss: 0.7683 - accuracy: 0.7109\n",
      "Epoch 20: saving model to model/keypoint_classifier\\keypoint_classifier.hdf5\n",
      "30/30 [==============================] - 0s 2ms/step - loss: 0.8124 - accuracy: 0.6745 - val_loss: 0.5429 - val_accuracy: 0.8727\n",
      "Epoch 21/1000\n",
      " 1/30 [>.............................] - ETA: 0s - loss: 0.8353 - accuracy: 0.6484\n",
      "Epoch 21: saving model to model/keypoint_classifier\\keypoint_classifier.hdf5\n",
      "30/30 [==============================] - 0s 2ms/step - loss: 0.8191 - accuracy: 0.6748 - val_loss: 0.5220 - val_accuracy: 0.8783\n",
      "Epoch 22/1000\n",
      " 1/30 [>.............................] - ETA: 0s - loss: 0.7473 - accuracy: 0.6797\n",
      "Epoch 22: saving model to model/keypoint_classifier\\keypoint_classifier.hdf5\n",
      "30/30 [==============================] - 0s 2ms/step - loss: 0.8094 - accuracy: 0.6806 - val_loss: 0.5180 - val_accuracy: 0.8807\n",
      "Epoch 23/1000\n",
      " 1/30 [>.............................] - ETA: 0s - loss: 0.8206 - accuracy: 0.6250\n",
      "Epoch 23: saving model to model/keypoint_classifier\\keypoint_classifier.hdf5\n",
      "30/30 [==============================] - 0s 2ms/step - loss: 0.7822 - accuracy: 0.6908 - val_loss: 0.4965 - val_accuracy: 0.8863\n",
      "Epoch 24/1000\n",
      " 1/30 [>.............................] - ETA: 0s - loss: 0.7252 - accuracy: 0.6953\n",
      "Epoch 24: saving model to model/keypoint_classifier\\keypoint_classifier.hdf5\n",
      "30/30 [==============================] - 0s 2ms/step - loss: 0.7893 - accuracy: 0.6924 - val_loss: 0.4860 - val_accuracy: 0.8871\n",
      "Epoch 25/1000\n",
      " 1/30 [>.............................] - ETA: 0s - loss: 0.8502 - accuracy: 0.6562\n",
      "Epoch 25: saving model to model/keypoint_classifier\\keypoint_classifier.hdf5\n",
      "30/30 [==============================] - 0s 2ms/step - loss: 0.7604 - accuracy: 0.7015 - val_loss: 0.4739 - val_accuracy: 0.8879\n",
      "Epoch 26/1000\n",
      " 1/30 [>.............................] - ETA: 0s - loss: 0.7478 - accuracy: 0.7266\n",
      "Epoch 26: saving model to model/keypoint_classifier\\keypoint_classifier.hdf5\n",
      "30/30 [==============================] - 0s 2ms/step - loss: 0.7715 - accuracy: 0.6812 - val_loss: 0.4652 - val_accuracy: 0.8903\n",
      "Epoch 27/1000\n",
      " 1/30 [>.............................] - ETA: 0s - loss: 0.7484 - accuracy: 0.6953\n",
      "Epoch 27: saving model to model/keypoint_classifier\\keypoint_classifier.hdf5\n",
      "30/30 [==============================] - 0s 2ms/step - loss: 0.7783 - accuracy: 0.6959 - val_loss: 0.4645 - val_accuracy: 0.8927\n",
      "Epoch 28/1000\n",
      " 1/30 [>.............................] - ETA: 0s - loss: 0.6828 - accuracy: 0.7422\n",
      "Epoch 28: saving model to model/keypoint_classifier\\keypoint_classifier.hdf5\n",
      "30/30 [==============================] - 0s 2ms/step - loss: 0.7624 - accuracy: 0.7025 - val_loss: 0.4517 - val_accuracy: 0.8927\n",
      "Epoch 29/1000\n",
      " 1/30 [>.............................] - ETA: 0s - loss: 0.8004 - accuracy: 0.6719\n",
      "Epoch 29: saving model to model/keypoint_classifier\\keypoint_classifier.hdf5\n",
      "30/30 [==============================] - 0s 2ms/step - loss: 0.7529 - accuracy: 0.7031 - val_loss: 0.4400 - val_accuracy: 0.8927\n",
      "Epoch 30/1000\n",
      " 1/30 [>.............................] - ETA: 0s - loss: 0.8095 - accuracy: 0.6328\n",
      "Epoch 30: saving model to model/keypoint_classifier\\keypoint_classifier.hdf5\n",
      "30/30 [==============================] - 0s 2ms/step - loss: 0.7558 - accuracy: 0.7047 - val_loss: 0.4341 - val_accuracy: 0.8951\n",
      "Epoch 31/1000\n",
      " 1/30 [>.............................] - ETA: 0s - loss: 0.6944 - accuracy: 0.6875\n",
      "Epoch 31: saving model to model/keypoint_classifier\\keypoint_classifier.hdf5\n",
      "30/30 [==============================] - 0s 2ms/step - loss: 0.7515 - accuracy: 0.7007 - val_loss: 0.4314 - val_accuracy: 0.8943\n",
      "Epoch 32/1000\n",
      " 1/30 [>.............................] - ETA: 0s - loss: 0.7175 - accuracy: 0.7109\n",
      "Epoch 32: saving model to model/keypoint_classifier\\keypoint_classifier.hdf5\n",
      "30/30 [==============================] - 0s 2ms/step - loss: 0.7406 - accuracy: 0.7071 - val_loss: 0.4240 - val_accuracy: 0.8999\n",
      "Epoch 33/1000\n",
      " 1/30 [>.............................] - ETA: 0s - loss: 0.6472 - accuracy: 0.7422\n",
      "Epoch 33: saving model to model/keypoint_classifier\\keypoint_classifier.hdf5\n",
      "30/30 [==============================] - 0s 2ms/step - loss: 0.7232 - accuracy: 0.7178 - val_loss: 0.4111 - val_accuracy: 0.9007\n",
      "Epoch 34/1000\n",
      " 1/30 [>.............................] - ETA: 0s - loss: 0.7645 - accuracy: 0.6641\n",
      "Epoch 34: saving model to model/keypoint_classifier\\keypoint_classifier.hdf5\n",
      "30/30 [==============================] - 0s 2ms/step - loss: 0.6963 - accuracy: 0.7290 - val_loss: 0.3981 - val_accuracy: 0.9087\n",
      "Epoch 35/1000\n",
      " 1/30 [>.............................] - ETA: 0s - loss: 0.6768 - accuracy: 0.7344\n",
      "Epoch 35: saving model to model/keypoint_classifier\\keypoint_classifier.hdf5\n",
      "30/30 [==============================] - 0s 2ms/step - loss: 0.7141 - accuracy: 0.7188 - val_loss: 0.3961 - val_accuracy: 0.9151\n",
      "Epoch 36/1000\n",
      " 1/30 [>.............................] - ETA: 0s - loss: 0.6817 - accuracy: 0.7188\n",
      "Epoch 36: saving model to model/keypoint_classifier\\keypoint_classifier.hdf5\n",
      "30/30 [==============================] - 0s 2ms/step - loss: 0.7070 - accuracy: 0.7340 - val_loss: 0.3944 - val_accuracy: 0.9079\n",
      "Epoch 37/1000\n",
      " 1/30 [>.............................] - ETA: 0s - loss: 0.6290 - accuracy: 0.7422\n",
      "Epoch 37: saving model to model/keypoint_classifier\\keypoint_classifier.hdf5\n",
      "30/30 [==============================] - 0s 2ms/step - loss: 0.7117 - accuracy: 0.7244 - val_loss: 0.3884 - val_accuracy: 0.9255\n",
      "Epoch 38/1000\n",
      " 1/30 [>.............................] - ETA: 0s - loss: 0.6106 - accuracy: 0.7422\n",
      "Epoch 38: saving model to model/keypoint_classifier\\keypoint_classifier.hdf5\n",
      "30/30 [==============================] - 0s 2ms/step - loss: 0.7089 - accuracy: 0.7250 - val_loss: 0.3851 - val_accuracy: 0.9191\n",
      "Epoch 39/1000\n",
      " 1/30 [>.............................] - ETA: 0s - loss: 0.6148 - accuracy: 0.7656\n",
      "Epoch 39: saving model to model/keypoint_classifier\\keypoint_classifier.hdf5\n",
      "30/30 [==============================] - 0s 3ms/step - loss: 0.6996 - accuracy: 0.7258 - val_loss: 0.3818 - val_accuracy: 0.9159\n",
      "Epoch 40/1000\n",
      " 1/30 [>.............................] - ETA: 0s - loss: 0.6880 - accuracy: 0.7734\n",
      "Epoch 40: saving model to model/keypoint_classifier\\keypoint_classifier.hdf5\n",
      "30/30 [==============================] - 0s 2ms/step - loss: 0.6910 - accuracy: 0.7332 - val_loss: 0.3754 - val_accuracy: 0.9287\n",
      "Epoch 41/1000\n",
      " 1/30 [>.............................] - ETA: 0s - loss: 0.7033 - accuracy: 0.7500\n",
      "Epoch 41: saving model to model/keypoint_classifier\\keypoint_classifier.hdf5\n",
      "30/30 [==============================] - 0s 2ms/step - loss: 0.6680 - accuracy: 0.7490 - val_loss: 0.3669 - val_accuracy: 0.9327\n",
      "Epoch 42/1000\n",
      " 1/30 [>.............................] - ETA: 0s - loss: 0.6680 - accuracy: 0.7031\n",
      "Epoch 42: saving model to model/keypoint_classifier\\keypoint_classifier.hdf5\n",
      "30/30 [==============================] - 0s 2ms/step - loss: 0.6871 - accuracy: 0.7354 - val_loss: 0.3627 - val_accuracy: 0.9376\n",
      "Epoch 43/1000\n",
      " 1/30 [>.............................] - ETA: 0s - loss: 0.6592 - accuracy: 0.7266\n",
      "Epoch 43: saving model to model/keypoint_classifier\\keypoint_classifier.hdf5\n",
      "30/30 [==============================] - 0s 2ms/step - loss: 0.6744 - accuracy: 0.7367 - val_loss: 0.3597 - val_accuracy: 0.9343\n",
      "Epoch 44/1000\n",
      " 1/30 [>.............................] - ETA: 0s - loss: 0.7293 - accuracy: 0.7422\n",
      "Epoch 44: saving model to model/keypoint_classifier\\keypoint_classifier.hdf5\n",
      "30/30 [==============================] - 0s 2ms/step - loss: 0.6708 - accuracy: 0.7431 - val_loss: 0.3538 - val_accuracy: 0.9351\n",
      "Epoch 45/1000\n",
      " 1/30 [>.............................] - ETA: 0s - loss: 0.6711 - accuracy: 0.7344\n",
      "Epoch 45: saving model to model/keypoint_classifier\\keypoint_classifier.hdf5\n",
      "30/30 [==============================] - 0s 2ms/step - loss: 0.6785 - accuracy: 0.7426 - val_loss: 0.3519 - val_accuracy: 0.9319\n",
      "Epoch 46/1000\n",
      " 1/30 [>.............................] - ETA: 0s - loss: 0.5398 - accuracy: 0.7969\n",
      "Epoch 46: saving model to model/keypoint_classifier\\keypoint_classifier.hdf5\n",
      "30/30 [==============================] - 0s 2ms/step - loss: 0.6788 - accuracy: 0.7359 - val_loss: 0.3481 - val_accuracy: 0.9384\n",
      "Epoch 47/1000\n",
      " 1/30 [>.............................] - ETA: 0s - loss: 0.6075 - accuracy: 0.7891\n",
      "Epoch 47: saving model to model/keypoint_classifier\\keypoint_classifier.hdf5\n",
      "30/30 [==============================] - 0s 2ms/step - loss: 0.6737 - accuracy: 0.7466 - val_loss: 0.3479 - val_accuracy: 0.9400\n",
      "Epoch 48/1000\n",
      " 1/30 [>.............................] - ETA: 0s - loss: 0.7326 - accuracy: 0.7031\n",
      "Epoch 48: saving model to model/keypoint_classifier\\keypoint_classifier.hdf5\n",
      "30/30 [==============================] - 0s 2ms/step - loss: 0.6606 - accuracy: 0.7383 - val_loss: 0.3451 - val_accuracy: 0.9367\n",
      "Epoch 49/1000\n",
      " 1/30 [>.............................] - ETA: 0s - loss: 0.6754 - accuracy: 0.7344\n",
      "Epoch 49: saving model to model/keypoint_classifier\\keypoint_classifier.hdf5\n",
      "30/30 [==============================] - 0s 2ms/step - loss: 0.6501 - accuracy: 0.7477 - val_loss: 0.3334 - val_accuracy: 0.9392\n",
      "Epoch 50/1000\n",
      " 1/30 [>.............................] - ETA: 0s - loss: 0.6169 - accuracy: 0.7344\n",
      "Epoch 50: saving model to model/keypoint_classifier\\keypoint_classifier.hdf5\n",
      "30/30 [==============================] - 0s 2ms/step - loss: 0.6618 - accuracy: 0.7447 - val_loss: 0.3292 - val_accuracy: 0.9424\n",
      "Epoch 51/1000\n",
      " 1/30 [>.............................] - ETA: 0s - loss: 0.7016 - accuracy: 0.7500\n",
      "Epoch 51: saving model to model/keypoint_classifier\\keypoint_classifier.hdf5\n",
      "30/30 [==============================] - 0s 2ms/step - loss: 0.6539 - accuracy: 0.7474 - val_loss: 0.3301 - val_accuracy: 0.9376\n",
      "Epoch 52/1000\n",
      " 1/30 [>.............................] - ETA: 0s - loss: 0.6253 - accuracy: 0.8047\n",
      "Epoch 52: saving model to model/keypoint_classifier\\keypoint_classifier.hdf5\n",
      "30/30 [==============================] - 0s 2ms/step - loss: 0.6364 - accuracy: 0.7623 - val_loss: 0.3278 - val_accuracy: 0.9400\n",
      "Epoch 53/1000\n",
      " 1/30 [>.............................] - ETA: 0s - loss: 0.6163 - accuracy: 0.7656\n",
      "Epoch 53: saving model to model/keypoint_classifier\\keypoint_classifier.hdf5\n",
      "30/30 [==============================] - 0s 2ms/step - loss: 0.6541 - accuracy: 0.7554 - val_loss: 0.3207 - val_accuracy: 0.9448\n",
      "Epoch 54/1000\n",
      " 1/30 [>.............................] - ETA: 0s - loss: 0.6406 - accuracy: 0.7578\n",
      "Epoch 54: saving model to model/keypoint_classifier\\keypoint_classifier.hdf5\n",
      "30/30 [==============================] - 0s 2ms/step - loss: 0.6506 - accuracy: 0.7503 - val_loss: 0.3202 - val_accuracy: 0.9456\n",
      "Epoch 55/1000\n",
      " 1/30 [>.............................] - ETA: 0s - loss: 0.5427 - accuracy: 0.7656\n",
      "Epoch 55: saving model to model/keypoint_classifier\\keypoint_classifier.hdf5\n",
      "30/30 [==============================] - 0s 2ms/step - loss: 0.6615 - accuracy: 0.7498 - val_loss: 0.3265 - val_accuracy: 0.9440\n",
      "Epoch 56/1000\n",
      " 1/30 [>.............................] - ETA: 0s - loss: 0.5616 - accuracy: 0.7656\n",
      "Epoch 56: saving model to model/keypoint_classifier\\keypoint_classifier.hdf5\n",
      "30/30 [==============================] - 0s 2ms/step - loss: 0.6288 - accuracy: 0.7581 - val_loss: 0.3197 - val_accuracy: 0.9456\n",
      "Epoch 57/1000\n",
      " 1/30 [>.............................] - ETA: 0s - loss: 0.6586 - accuracy: 0.7656\n",
      "Epoch 57: saving model to model/keypoint_classifier\\keypoint_classifier.hdf5\n",
      "30/30 [==============================] - 0s 3ms/step - loss: 0.6221 - accuracy: 0.7690 - val_loss: 0.3055 - val_accuracy: 0.9456\n",
      "Epoch 58/1000\n",
      " 1/30 [>.............................] - ETA: 0s - loss: 0.7358 - accuracy: 0.6875\n",
      "Epoch 58: saving model to model/keypoint_classifier\\keypoint_classifier.hdf5\n",
      "30/30 [==============================] - 0s 2ms/step - loss: 0.6244 - accuracy: 0.7661 - val_loss: 0.3134 - val_accuracy: 0.9440\n",
      "Epoch 59/1000\n",
      " 1/30 [>.............................] - ETA: 0s - loss: 0.6835 - accuracy: 0.7578\n",
      "Epoch 59: saving model to model/keypoint_classifier\\keypoint_classifier.hdf5\n",
      "30/30 [==============================] - 0s 2ms/step - loss: 0.6397 - accuracy: 0.7618 - val_loss: 0.3120 - val_accuracy: 0.9496\n",
      "Epoch 60/1000\n",
      " 1/30 [>.............................] - ETA: 0s - loss: 0.7365 - accuracy: 0.7031\n",
      "Epoch 60: saving model to model/keypoint_classifier\\keypoint_classifier.hdf5\n",
      "30/30 [==============================] - 0s 3ms/step - loss: 0.6300 - accuracy: 0.7704 - val_loss: 0.3064 - val_accuracy: 0.9448\n",
      "Epoch 61/1000\n",
      " 1/30 [>.............................] - ETA: 0s - loss: 0.4953 - accuracy: 0.7969\n",
      "Epoch 61: saving model to model/keypoint_classifier\\keypoint_classifier.hdf5\n",
      "30/30 [==============================] - 0s 2ms/step - loss: 0.6388 - accuracy: 0.7573 - val_loss: 0.3101 - val_accuracy: 0.9424\n",
      "Epoch 62/1000\n",
      " 1/30 [>.............................] - ETA: 0s - loss: 0.7426 - accuracy: 0.7344\n",
      "Epoch 62: saving model to model/keypoint_classifier\\keypoint_classifier.hdf5\n",
      "30/30 [==============================] - 0s 2ms/step - loss: 0.6363 - accuracy: 0.7623 - val_loss: 0.3084 - val_accuracy: 0.9456\n",
      "Epoch 63/1000\n",
      " 1/30 [>.............................] - ETA: 0s - loss: 0.6918 - accuracy: 0.7578\n",
      "Epoch 63: saving model to model/keypoint_classifier\\keypoint_classifier.hdf5\n",
      "30/30 [==============================] - 0s 2ms/step - loss: 0.6103 - accuracy: 0.7698 - val_loss: 0.2974 - val_accuracy: 0.9504\n",
      "Epoch 64/1000\n",
      " 1/30 [>.............................] - ETA: 0s - loss: 0.6662 - accuracy: 0.7891\n",
      "Epoch 64: saving model to model/keypoint_classifier\\keypoint_classifier.hdf5\n",
      "30/30 [==============================] - 0s 2ms/step - loss: 0.6150 - accuracy: 0.7685 - val_loss: 0.2948 - val_accuracy: 0.9536\n",
      "Epoch 65/1000\n",
      " 1/30 [>.............................] - ETA: 0s - loss: 0.5573 - accuracy: 0.7969\n",
      "Epoch 65: saving model to model/keypoint_classifier\\keypoint_classifier.hdf5\n",
      "30/30 [==============================] - 0s 2ms/step - loss: 0.6100 - accuracy: 0.7645 - val_loss: 0.2967 - val_accuracy: 0.9432\n",
      "Epoch 66/1000\n",
      " 1/30 [>.............................] - ETA: 0s - loss: 0.5669 - accuracy: 0.7891\n",
      "Epoch 66: saving model to model/keypoint_classifier\\keypoint_classifier.hdf5\n",
      "30/30 [==============================] - 0s 2ms/step - loss: 0.6266 - accuracy: 0.7672 - val_loss: 0.2966 - val_accuracy: 0.9448\n",
      "Epoch 67/1000\n",
      " 1/30 [>.............................] - ETA: 0s - loss: 0.6049 - accuracy: 0.8125\n",
      "Epoch 67: saving model to model/keypoint_classifier\\keypoint_classifier.hdf5\n",
      "30/30 [==============================] - 0s 2ms/step - loss: 0.6203 - accuracy: 0.7693 - val_loss: 0.2952 - val_accuracy: 0.9504\n",
      "Epoch 68/1000\n",
      " 1/30 [>.............................] - ETA: 0s - loss: 0.6167 - accuracy: 0.7266\n",
      "Epoch 68: saving model to model/keypoint_classifier\\keypoint_classifier.hdf5\n",
      "30/30 [==============================] - 0s 2ms/step - loss: 0.6285 - accuracy: 0.7704 - val_loss: 0.2920 - val_accuracy: 0.9496\n",
      "Epoch 69/1000\n",
      " 1/30 [>.............................] - ETA: 0s - loss: 0.8188 - accuracy: 0.7578\n",
      "Epoch 69: saving model to model/keypoint_classifier\\keypoint_classifier.hdf5\n",
      "30/30 [==============================] - 0s 2ms/step - loss: 0.6289 - accuracy: 0.7690 - val_loss: 0.2937 - val_accuracy: 0.9496\n",
      "Epoch 70/1000\n",
      " 1/30 [>.............................] - ETA: 0s - loss: 0.6088 - accuracy: 0.7578\n",
      "Epoch 70: saving model to model/keypoint_classifier\\keypoint_classifier.hdf5\n",
      "30/30 [==============================] - 0s 2ms/step - loss: 0.6060 - accuracy: 0.7677 - val_loss: 0.2916 - val_accuracy: 0.9472\n",
      "Epoch 71/1000\n",
      " 1/30 [>.............................] - ETA: 0s - loss: 0.6004 - accuracy: 0.7891\n",
      "Epoch 71: saving model to model/keypoint_classifier\\keypoint_classifier.hdf5\n",
      "30/30 [==============================] - 0s 2ms/step - loss: 0.6036 - accuracy: 0.7746 - val_loss: 0.2883 - val_accuracy: 0.9480\n",
      "Epoch 72/1000\n",
      " 1/30 [>.............................] - ETA: 0s - loss: 0.5633 - accuracy: 0.7734\n",
      "Epoch 72: saving model to model/keypoint_classifier\\keypoint_classifier.hdf5\n",
      "30/30 [==============================] - 0s 2ms/step - loss: 0.6207 - accuracy: 0.7621 - val_loss: 0.2876 - val_accuracy: 0.9504\n",
      "Epoch 73/1000\n",
      " 1/30 [>.............................] - ETA: 0s - loss: 0.6067 - accuracy: 0.7578\n",
      "Epoch 73: saving model to model/keypoint_classifier\\keypoint_classifier.hdf5\n",
      "30/30 [==============================] - 0s 2ms/step - loss: 0.6168 - accuracy: 0.7701 - val_loss: 0.2850 - val_accuracy: 0.9504\n",
      "Epoch 74/1000\n",
      " 1/30 [>.............................] - ETA: 0s - loss: 0.6167 - accuracy: 0.7578\n",
      "Epoch 74: saving model to model/keypoint_classifier\\keypoint_classifier.hdf5\n",
      "30/30 [==============================] - 0s 2ms/step - loss: 0.5968 - accuracy: 0.7829 - val_loss: 0.2823 - val_accuracy: 0.9504\n",
      "Epoch 75/1000\n",
      " 1/30 [>.............................] - ETA: 0s - loss: 0.5313 - accuracy: 0.8047\n",
      "Epoch 75: saving model to model/keypoint_classifier\\keypoint_classifier.hdf5\n",
      "30/30 [==============================] - 0s 2ms/step - loss: 0.6079 - accuracy: 0.7749 - val_loss: 0.2839 - val_accuracy: 0.9512\n",
      "Epoch 76/1000\n",
      " 1/30 [>.............................] - ETA: 0s - loss: 0.6714 - accuracy: 0.7188\n",
      "Epoch 76: saving model to model/keypoint_classifier\\keypoint_classifier.hdf5\n",
      "30/30 [==============================] - 0s 2ms/step - loss: 0.5982 - accuracy: 0.7736 - val_loss: 0.2791 - val_accuracy: 0.9504\n",
      "Epoch 77/1000\n",
      " 1/30 [>.............................] - ETA: 0s - loss: 0.5101 - accuracy: 0.8438\n",
      "Epoch 77: saving model to model/keypoint_classifier\\keypoint_classifier.hdf5\n",
      "30/30 [==============================] - 0s 2ms/step - loss: 0.6005 - accuracy: 0.7770 - val_loss: 0.2796 - val_accuracy: 0.9504\n",
      "Epoch 78/1000\n",
      " 1/30 [>.............................] - ETA: 0s - loss: 0.5045 - accuracy: 0.8125\n",
      "Epoch 78: saving model to model/keypoint_classifier\\keypoint_classifier.hdf5\n",
      "30/30 [==============================] - 0s 2ms/step - loss: 0.5983 - accuracy: 0.7749 - val_loss: 0.2715 - val_accuracy: 0.9560\n",
      "Epoch 79/1000\n",
      " 1/30 [>.............................] - ETA: 0s - loss: 0.5506 - accuracy: 0.7812\n",
      "Epoch 79: saving model to model/keypoint_classifier\\keypoint_classifier.hdf5\n",
      "30/30 [==============================] - 0s 2ms/step - loss: 0.6205 - accuracy: 0.7720 - val_loss: 0.2758 - val_accuracy: 0.9504\n",
      "Epoch 80/1000\n",
      " 1/30 [>.............................] - ETA: 0s - loss: 0.4460 - accuracy: 0.8359\n",
      "Epoch 80: saving model to model/keypoint_classifier\\keypoint_classifier.hdf5\n",
      "30/30 [==============================] - 0s 2ms/step - loss: 0.5854 - accuracy: 0.7856 - val_loss: 0.2707 - val_accuracy: 0.9488\n",
      "Epoch 81/1000\n",
      " 1/30 [>.............................] - ETA: 0s - loss: 0.7355 - accuracy: 0.7812\n",
      "Epoch 81: saving model to model/keypoint_classifier\\keypoint_classifier.hdf5\n",
      "30/30 [==============================] - 0s 2ms/step - loss: 0.5953 - accuracy: 0.7805 - val_loss: 0.2763 - val_accuracy: 0.9472\n",
      "Epoch 82/1000\n",
      " 1/30 [>.............................] - ETA: 0s - loss: 0.5685 - accuracy: 0.7891\n",
      "Epoch 82: saving model to model/keypoint_classifier\\keypoint_classifier.hdf5\n",
      "30/30 [==============================] - 0s 2ms/step - loss: 0.6092 - accuracy: 0.7704 - val_loss: 0.2734 - val_accuracy: 0.9544\n",
      "Epoch 83/1000\n",
      " 1/30 [>.............................] - ETA: 0s - loss: 0.5691 - accuracy: 0.8125\n",
      "Epoch 83: saving model to model/keypoint_classifier\\keypoint_classifier.hdf5\n",
      "30/30 [==============================] - 0s 2ms/step - loss: 0.5768 - accuracy: 0.7856 - val_loss: 0.2667 - val_accuracy: 0.9504\n",
      "Epoch 84/1000\n",
      " 1/30 [>.............................] - ETA: 0s - loss: 0.7051 - accuracy: 0.7812\n",
      "Epoch 84: saving model to model/keypoint_classifier\\keypoint_classifier.hdf5\n",
      "30/30 [==============================] - 0s 2ms/step - loss: 0.5842 - accuracy: 0.7837 - val_loss: 0.2667 - val_accuracy: 0.9512\n",
      "Epoch 85/1000\n",
      " 1/30 [>.............................] - ETA: 0s - loss: 0.5576 - accuracy: 0.7578\n",
      "Epoch 85: saving model to model/keypoint_classifier\\keypoint_classifier.hdf5\n",
      "30/30 [==============================] - 0s 2ms/step - loss: 0.5933 - accuracy: 0.7786 - val_loss: 0.2707 - val_accuracy: 0.9496\n",
      "Epoch 86/1000\n",
      " 1/30 [>.............................] - ETA: 0s - loss: 0.5205 - accuracy: 0.7891\n",
      "Epoch 86: saving model to model/keypoint_classifier\\keypoint_classifier.hdf5\n",
      "30/30 [==============================] - 0s 2ms/step - loss: 0.5961 - accuracy: 0.7805 - val_loss: 0.2671 - val_accuracy: 0.9520\n",
      "Epoch 87/1000\n",
      " 1/30 [>.............................] - ETA: 0s - loss: 0.5586 - accuracy: 0.8047\n",
      "Epoch 87: saving model to model/keypoint_classifier\\keypoint_classifier.hdf5\n",
      "30/30 [==============================] - 0s 2ms/step - loss: 0.5893 - accuracy: 0.7808 - val_loss: 0.2618 - val_accuracy: 0.9560\n",
      "Epoch 88/1000\n",
      " 1/30 [>.............................] - ETA: 0s - loss: 0.6082 - accuracy: 0.7578\n",
      "Epoch 88: saving model to model/keypoint_classifier\\keypoint_classifier.hdf5\n",
      "30/30 [==============================] - 0s 2ms/step - loss: 0.5855 - accuracy: 0.7794 - val_loss: 0.2641 - val_accuracy: 0.9528\n",
      "Epoch 89/1000\n",
      " 1/30 [>.............................] - ETA: 0s - loss: 0.6066 - accuracy: 0.8047\n",
      "Epoch 89: saving model to model/keypoint_classifier\\keypoint_classifier.hdf5\n",
      "30/30 [==============================] - 0s 2ms/step - loss: 0.5754 - accuracy: 0.7901 - val_loss: 0.2567 - val_accuracy: 0.9576\n",
      "Epoch 90/1000\n",
      " 1/30 [>.............................] - ETA: 0s - loss: 0.4497 - accuracy: 0.8125\n",
      "Epoch 90: saving model to model/keypoint_classifier\\keypoint_classifier.hdf5\n",
      "30/30 [==============================] - 0s 2ms/step - loss: 0.5745 - accuracy: 0.7818 - val_loss: 0.2560 - val_accuracy: 0.9560\n",
      "Epoch 91/1000\n",
      " 1/30 [>.............................] - ETA: 0s - loss: 0.6448 - accuracy: 0.7188\n",
      "Epoch 91: saving model to model/keypoint_classifier\\keypoint_classifier.hdf5\n",
      "30/30 [==============================] - 0s 2ms/step - loss: 0.5762 - accuracy: 0.7749 - val_loss: 0.2674 - val_accuracy: 0.9480\n",
      "Epoch 92/1000\n",
      " 1/30 [>.............................] - ETA: 0s - loss: 0.6872 - accuracy: 0.7656\n",
      "Epoch 92: saving model to model/keypoint_classifier\\keypoint_classifier.hdf5\n",
      "30/30 [==============================] - 0s 2ms/step - loss: 0.5739 - accuracy: 0.7896 - val_loss: 0.2564 - val_accuracy: 0.9600\n",
      "Epoch 93/1000\n",
      " 1/30 [>.............................] - ETA: 0s - loss: 0.5116 - accuracy: 0.7734\n",
      "Epoch 93: saving model to model/keypoint_classifier\\keypoint_classifier.hdf5\n",
      "30/30 [==============================] - 0s 2ms/step - loss: 0.5740 - accuracy: 0.7931 - val_loss: 0.2625 - val_accuracy: 0.9504\n",
      "Epoch 94/1000\n",
      " 1/30 [>.............................] - ETA: 0s - loss: 0.4571 - accuracy: 0.7812\n",
      "Epoch 94: saving model to model/keypoint_classifier\\keypoint_classifier.hdf5\n",
      "30/30 [==============================] - 0s 2ms/step - loss: 0.5774 - accuracy: 0.7824 - val_loss: 0.2536 - val_accuracy: 0.9568\n",
      "Epoch 95/1000\n",
      " 1/30 [>.............................] - ETA: 0s - loss: 0.7816 - accuracy: 0.7344\n",
      "Epoch 95: saving model to model/keypoint_classifier\\keypoint_classifier.hdf5\n",
      "30/30 [==============================] - 0s 2ms/step - loss: 0.5840 - accuracy: 0.7816 - val_loss: 0.2546 - val_accuracy: 0.9568\n",
      "Epoch 96/1000\n",
      " 1/30 [>.............................] - ETA: 0s - loss: 0.4963 - accuracy: 0.8203\n",
      "Epoch 96: saving model to model/keypoint_classifier\\keypoint_classifier.hdf5\n",
      "30/30 [==============================] - 0s 2ms/step - loss: 0.5759 - accuracy: 0.7933 - val_loss: 0.2568 - val_accuracy: 0.9528\n",
      "Epoch 97/1000\n",
      " 1/30 [>.............................] - ETA: 0s - loss: 0.5952 - accuracy: 0.7734\n",
      "Epoch 97: saving model to model/keypoint_classifier\\keypoint_classifier.hdf5\n",
      "30/30 [==============================] - 0s 2ms/step - loss: 0.5738 - accuracy: 0.7874 - val_loss: 0.2568 - val_accuracy: 0.9544\n",
      "Epoch 98/1000\n",
      " 1/30 [>.............................] - ETA: 0s - loss: 0.5478 - accuracy: 0.7969\n",
      "Epoch 98: saving model to model/keypoint_classifier\\keypoint_classifier.hdf5\n",
      "30/30 [==============================] - 0s 2ms/step - loss: 0.5749 - accuracy: 0.7840 - val_loss: 0.2564 - val_accuracy: 0.9504\n",
      "Epoch 99/1000\n",
      " 1/30 [>.............................] - ETA: 0s - loss: 0.5819 - accuracy: 0.7578\n",
      "Epoch 99: saving model to model/keypoint_classifier\\keypoint_classifier.hdf5\n",
      "30/30 [==============================] - 0s 2ms/step - loss: 0.5616 - accuracy: 0.7925 - val_loss: 0.2574 - val_accuracy: 0.9528\n",
      "Epoch 100/1000\n",
      " 1/30 [>.............................] - ETA: 0s - loss: 0.5754 - accuracy: 0.7500\n",
      "Epoch 100: saving model to model/keypoint_classifier\\keypoint_classifier.hdf5\n",
      "30/30 [==============================] - 0s 2ms/step - loss: 0.5759 - accuracy: 0.7874 - val_loss: 0.2495 - val_accuracy: 0.9552\n",
      "Epoch 101/1000\n",
      " 1/30 [>.............................] - ETA: 0s - loss: 0.6984 - accuracy: 0.7422\n",
      "Epoch 101: saving model to model/keypoint_classifier\\keypoint_classifier.hdf5\n",
      "30/30 [==============================] - 0s 2ms/step - loss: 0.5691 - accuracy: 0.7872 - val_loss: 0.2488 - val_accuracy: 0.9536\n",
      "Epoch 102/1000\n",
      " 1/30 [>.............................] - ETA: 0s - loss: 0.4371 - accuracy: 0.8359\n",
      "Epoch 102: saving model to model/keypoint_classifier\\keypoint_classifier.hdf5\n",
      "30/30 [==============================] - 0s 2ms/step - loss: 0.5702 - accuracy: 0.7880 - val_loss: 0.2521 - val_accuracy: 0.9528\n",
      "Epoch 103/1000\n",
      " 1/30 [>.............................] - ETA: 0s - loss: 0.5075 - accuracy: 0.8438\n",
      "Epoch 103: saving model to model/keypoint_classifier\\keypoint_classifier.hdf5\n",
      "30/30 [==============================] - 0s 2ms/step - loss: 0.5746 - accuracy: 0.7786 - val_loss: 0.2467 - val_accuracy: 0.9600\n",
      "Epoch 104/1000\n",
      " 1/30 [>.............................] - ETA: 0s - loss: 0.5272 - accuracy: 0.8203\n",
      "Epoch 104: saving model to model/keypoint_classifier\\keypoint_classifier.hdf5\n",
      "30/30 [==============================] - 0s 2ms/step - loss: 0.5877 - accuracy: 0.7832 - val_loss: 0.2523 - val_accuracy: 0.9584\n",
      "Epoch 105/1000\n",
      " 1/30 [>.............................] - ETA: 0s - loss: 0.5989 - accuracy: 0.7266\n",
      "Epoch 105: saving model to model/keypoint_classifier\\keypoint_classifier.hdf5\n",
      "30/30 [==============================] - 0s 2ms/step - loss: 0.5764 - accuracy: 0.7877 - val_loss: 0.2506 - val_accuracy: 0.9528\n",
      "Epoch 106/1000\n",
      " 1/30 [>.............................] - ETA: 0s - loss: 0.6110 - accuracy: 0.8125\n",
      "Epoch 106: saving model to model/keypoint_classifier\\keypoint_classifier.hdf5\n",
      "30/30 [==============================] - 0s 2ms/step - loss: 0.5736 - accuracy: 0.7869 - val_loss: 0.2477 - val_accuracy: 0.9608\n",
      "Epoch 107/1000\n",
      " 1/30 [>.............................] - ETA: 0s - loss: 0.4700 - accuracy: 0.8047\n",
      "Epoch 107: saving model to model/keypoint_classifier\\keypoint_classifier.hdf5\n",
      "30/30 [==============================] - 0s 3ms/step - loss: 0.5765 - accuracy: 0.7802 - val_loss: 0.2479 - val_accuracy: 0.9592\n",
      "Epoch 108/1000\n",
      " 1/30 [>.............................] - ETA: 0s - loss: 0.6809 - accuracy: 0.7422\n",
      "Epoch 108: saving model to model/keypoint_classifier\\keypoint_classifier.hdf5\n",
      "30/30 [==============================] - 0s 3ms/step - loss: 0.5799 - accuracy: 0.7845 - val_loss: 0.2474 - val_accuracy: 0.9552\n",
      "Epoch 109/1000\n",
      " 1/30 [>.............................] - ETA: 0s - loss: 0.5209 - accuracy: 0.7812\n",
      "Epoch 109: saving model to model/keypoint_classifier\\keypoint_classifier.hdf5\n",
      "30/30 [==============================] - 0s 3ms/step - loss: 0.5622 - accuracy: 0.7909 - val_loss: 0.2491 - val_accuracy: 0.9560\n",
      "Epoch 110/1000\n",
      " 1/30 [>.............................] - ETA: 0s - loss: 0.6020 - accuracy: 0.7891\n",
      "Epoch 110: saving model to model/keypoint_classifier\\keypoint_classifier.hdf5\n",
      "30/30 [==============================] - 0s 2ms/step - loss: 0.5597 - accuracy: 0.7941 - val_loss: 0.2465 - val_accuracy: 0.9552\n",
      "Epoch 111/1000\n",
      " 1/30 [>.............................] - ETA: 0s - loss: 0.6274 - accuracy: 0.7812\n",
      "Epoch 111: saving model to model/keypoint_classifier\\keypoint_classifier.hdf5\n",
      "30/30 [==============================] - 0s 2ms/step - loss: 0.5537 - accuracy: 0.7896 - val_loss: 0.2392 - val_accuracy: 0.9584\n",
      "Epoch 112/1000\n",
      " 1/30 [>.............................] - ETA: 0s - loss: 0.6052 - accuracy: 0.7812\n",
      "Epoch 112: saving model to model/keypoint_classifier\\keypoint_classifier.hdf5\n",
      "30/30 [==============================] - 0s 2ms/step - loss: 0.5725 - accuracy: 0.7920 - val_loss: 0.2435 - val_accuracy: 0.9552\n",
      "Epoch 113/1000\n",
      " 1/30 [>.............................] - ETA: 0s - loss: 0.5452 - accuracy: 0.8203\n",
      "Epoch 113: saving model to model/keypoint_classifier\\keypoint_classifier.hdf5\n",
      "30/30 [==============================] - 0s 2ms/step - loss: 0.5507 - accuracy: 0.7984 - val_loss: 0.2458 - val_accuracy: 0.9576\n",
      "Epoch 114/1000\n",
      " 1/30 [>.............................] - ETA: 0s - loss: 0.4532 - accuracy: 0.8438\n",
      "Epoch 114: saving model to model/keypoint_classifier\\keypoint_classifier.hdf5\n",
      "30/30 [==============================] - 0s 2ms/step - loss: 0.5576 - accuracy: 0.7907 - val_loss: 0.2434 - val_accuracy: 0.9560\n",
      "Epoch 115/1000\n",
      " 1/30 [>.............................] - ETA: 0s - loss: 0.4627 - accuracy: 0.8203\n",
      "Epoch 115: saving model to model/keypoint_classifier\\keypoint_classifier.hdf5\n",
      "30/30 [==============================] - 0s 2ms/step - loss: 0.5690 - accuracy: 0.7872 - val_loss: 0.2512 - val_accuracy: 0.9576\n",
      "Epoch 116/1000\n",
      " 1/30 [>.............................] - ETA: 0s - loss: 0.5490 - accuracy: 0.7734\n",
      "Epoch 116: saving model to model/keypoint_classifier\\keypoint_classifier.hdf5\n",
      "30/30 [==============================] - 0s 2ms/step - loss: 0.5471 - accuracy: 0.8019 - val_loss: 0.2381 - val_accuracy: 0.9576\n",
      "Epoch 117/1000\n",
      " 1/30 [>.............................] - ETA: 0s - loss: 0.6118 - accuracy: 0.7500\n",
      "Epoch 117: saving model to model/keypoint_classifier\\keypoint_classifier.hdf5\n",
      "30/30 [==============================] - 0s 2ms/step - loss: 0.5523 - accuracy: 0.7944 - val_loss: 0.2399 - val_accuracy: 0.9584\n",
      "Epoch 118/1000\n",
      " 1/30 [>.............................] - ETA: 0s - loss: 0.7172 - accuracy: 0.7500\n",
      "Epoch 118: saving model to model/keypoint_classifier\\keypoint_classifier.hdf5\n",
      "30/30 [==============================] - 0s 2ms/step - loss: 0.5472 - accuracy: 0.7923 - val_loss: 0.2375 - val_accuracy: 0.9568\n",
      "Epoch 119/1000\n",
      " 1/30 [>.............................] - ETA: 0s - loss: 0.6024 - accuracy: 0.8125\n",
      "Epoch 119: saving model to model/keypoint_classifier\\keypoint_classifier.hdf5\n",
      "30/30 [==============================] - 0s 2ms/step - loss: 0.5456 - accuracy: 0.8003 - val_loss: 0.2432 - val_accuracy: 0.9560\n",
      "Epoch 120/1000\n",
      " 1/30 [>.............................] - ETA: 0s - loss: 0.6577 - accuracy: 0.7344\n",
      "Epoch 120: saving model to model/keypoint_classifier\\keypoint_classifier.hdf5\n",
      "30/30 [==============================] - 0s 2ms/step - loss: 0.5701 - accuracy: 0.7850 - val_loss: 0.2381 - val_accuracy: 0.9552\n",
      "Epoch 121/1000\n",
      " 1/30 [>.............................] - ETA: 0s - loss: 0.3968 - accuracy: 0.8828\n",
      "Epoch 121: saving model to model/keypoint_classifier\\keypoint_classifier.hdf5\n",
      "30/30 [==============================] - 0s 2ms/step - loss: 0.5683 - accuracy: 0.7893 - val_loss: 0.2414 - val_accuracy: 0.9584\n",
      "Epoch 122/1000\n",
      " 1/30 [>.............................] - ETA: 0s - loss: 0.6162 - accuracy: 0.7500\n",
      "Epoch 122: saving model to model/keypoint_classifier\\keypoint_classifier.hdf5\n",
      "30/30 [==============================] - 0s 2ms/step - loss: 0.5642 - accuracy: 0.7936 - val_loss: 0.2384 - val_accuracy: 0.9584\n",
      "Epoch 123/1000\n",
      " 1/30 [>.............................] - ETA: 0s - loss: 0.6695 - accuracy: 0.7188\n",
      "Epoch 123: saving model to model/keypoint_classifier\\keypoint_classifier.hdf5\n",
      "30/30 [==============================] - 0s 2ms/step - loss: 0.5560 - accuracy: 0.7883 - val_loss: 0.2441 - val_accuracy: 0.9552\n",
      "Epoch 124/1000\n",
      " 1/30 [>.............................] - ETA: 0s - loss: 0.6258 - accuracy: 0.7891\n",
      "Epoch 124: saving model to model/keypoint_classifier\\keypoint_classifier.hdf5\n",
      "30/30 [==============================] - 0s 2ms/step - loss: 0.5515 - accuracy: 0.7957 - val_loss: 0.2342 - val_accuracy: 0.9608\n",
      "Epoch 125/1000\n",
      " 1/30 [>.............................] - ETA: 0s - loss: 0.4685 - accuracy: 0.8438\n",
      "Epoch 125: saving model to model/keypoint_classifier\\keypoint_classifier.hdf5\n",
      "30/30 [==============================] - 0s 2ms/step - loss: 0.5583 - accuracy: 0.7965 - val_loss: 0.2420 - val_accuracy: 0.9536\n",
      "Epoch 126/1000\n",
      " 1/30 [>.............................] - ETA: 0s - loss: 0.6200 - accuracy: 0.7812\n",
      "Epoch 126: saving model to model/keypoint_classifier\\keypoint_classifier.hdf5\n",
      "30/30 [==============================] - 0s 2ms/step - loss: 0.5439 - accuracy: 0.7957 - val_loss: 0.2388 - val_accuracy: 0.9568\n",
      "Epoch 127/1000\n",
      " 1/30 [>.............................] - ETA: 0s - loss: 0.6277 - accuracy: 0.7656\n",
      "Epoch 127: saving model to model/keypoint_classifier\\keypoint_classifier.hdf5\n",
      "30/30 [==============================] - 0s 2ms/step - loss: 0.5484 - accuracy: 0.7928 - val_loss: 0.2362 - val_accuracy: 0.9608\n",
      "Epoch 128/1000\n",
      " 1/30 [>.............................] - ETA: 0s - loss: 0.5795 - accuracy: 0.8594\n",
      "Epoch 128: saving model to model/keypoint_classifier\\keypoint_classifier.hdf5\n",
      "30/30 [==============================] - 0s 2ms/step - loss: 0.5481 - accuracy: 0.7931 - val_loss: 0.2416 - val_accuracy: 0.9496\n",
      "Epoch 129/1000\n",
      " 1/30 [>.............................] - ETA: 0s - loss: 0.7243 - accuracy: 0.7734\n",
      "Epoch 129: saving model to model/keypoint_classifier\\keypoint_classifier.hdf5\n",
      "30/30 [==============================] - 0s 2ms/step - loss: 0.5482 - accuracy: 0.7963 - val_loss: 0.2369 - val_accuracy: 0.9560\n",
      "Epoch 130/1000\n",
      " 1/30 [>.............................] - ETA: 0s - loss: 0.6191 - accuracy: 0.7891\n",
      "Epoch 130: saving model to model/keypoint_classifier\\keypoint_classifier.hdf5\n",
      "30/30 [==============================] - 0s 2ms/step - loss: 0.5285 - accuracy: 0.8059 - val_loss: 0.2397 - val_accuracy: 0.9504\n",
      "Epoch 131/1000\n",
      " 1/30 [>.............................] - ETA: 0s - loss: 0.4395 - accuracy: 0.8359\n",
      "Epoch 131: saving model to model/keypoint_classifier\\keypoint_classifier.hdf5\n",
      "30/30 [==============================] - 0s 2ms/step - loss: 0.5235 - accuracy: 0.7997 - val_loss: 0.2275 - val_accuracy: 0.9600\n",
      "Epoch 132/1000\n",
      " 1/30 [>.............................] - ETA: 0s - loss: 0.4604 - accuracy: 0.8281\n",
      "Epoch 132: saving model to model/keypoint_classifier\\keypoint_classifier.hdf5\n",
      "30/30 [==============================] - 0s 2ms/step - loss: 0.5299 - accuracy: 0.8037 - val_loss: 0.2323 - val_accuracy: 0.9544\n",
      "Epoch 133/1000\n",
      " 1/30 [>.............................] - ETA: 0s - loss: 0.6599 - accuracy: 0.7422\n",
      "Epoch 133: saving model to model/keypoint_classifier\\keypoint_classifier.hdf5\n",
      "30/30 [==============================] - 0s 2ms/step - loss: 0.5542 - accuracy: 0.7912 - val_loss: 0.2295 - val_accuracy: 0.9560\n",
      "Epoch 134/1000\n",
      " 1/30 [>.............................] - ETA: 0s - loss: 0.5654 - accuracy: 0.7812\n",
      "Epoch 134: saving model to model/keypoint_classifier\\keypoint_classifier.hdf5\n",
      "30/30 [==============================] - 0s 2ms/step - loss: 0.5430 - accuracy: 0.7979 - val_loss: 0.2351 - val_accuracy: 0.9600\n",
      "Epoch 135/1000\n",
      " 1/30 [>.............................] - ETA: 0s - loss: 0.6546 - accuracy: 0.8047\n",
      "Epoch 135: saving model to model/keypoint_classifier\\keypoint_classifier.hdf5\n",
      "30/30 [==============================] - 0s 2ms/step - loss: 0.5478 - accuracy: 0.7979 - val_loss: 0.2370 - val_accuracy: 0.9568\n",
      "Epoch 136/1000\n",
      " 1/30 [>.............................] - ETA: 0s - loss: 0.6647 - accuracy: 0.7734\n",
      "Epoch 136: saving model to model/keypoint_classifier\\keypoint_classifier.hdf5\n",
      "30/30 [==============================] - 0s 2ms/step - loss: 0.5487 - accuracy: 0.7992 - val_loss: 0.2412 - val_accuracy: 0.9520\n",
      "Epoch 137/1000\n",
      " 1/30 [>.............................] - ETA: 0s - loss: 0.7427 - accuracy: 0.7344\n",
      "Epoch 137: saving model to model/keypoint_classifier\\keypoint_classifier.hdf5\n",
      "30/30 [==============================] - 0s 3ms/step - loss: 0.5353 - accuracy: 0.8093 - val_loss: 0.2305 - val_accuracy: 0.9608\n",
      "Epoch 138/1000\n",
      " 1/30 [>.............................] - ETA: 0s - loss: 0.5695 - accuracy: 0.7734\n",
      "Epoch 138: saving model to model/keypoint_classifier\\keypoint_classifier.hdf5\n",
      "30/30 [==============================] - 0s 2ms/step - loss: 0.5562 - accuracy: 0.7968 - val_loss: 0.2365 - val_accuracy: 0.9592\n",
      "Epoch 139/1000\n",
      " 1/30 [>.............................] - ETA: 0s - loss: 0.5438 - accuracy: 0.7812\n",
      "Epoch 139: saving model to model/keypoint_classifier\\keypoint_classifier.hdf5\n",
      "30/30 [==============================] - 0s 2ms/step - loss: 0.5376 - accuracy: 0.8016 - val_loss: 0.2321 - val_accuracy: 0.9592\n",
      "Epoch 140/1000\n",
      " 1/30 [>.............................] - ETA: 0s - loss: 0.5676 - accuracy: 0.7734\n",
      "Epoch 140: saving model to model/keypoint_classifier\\keypoint_classifier.hdf5\n",
      "30/30 [==============================] - 0s 2ms/step - loss: 0.5430 - accuracy: 0.8021 - val_loss: 0.2342 - val_accuracy: 0.9568\n",
      "Epoch 141/1000\n",
      " 1/30 [>.............................] - ETA: 0s - loss: 0.7058 - accuracy: 0.7969\n",
      "Epoch 141: saving model to model/keypoint_classifier\\keypoint_classifier.hdf5\n",
      "30/30 [==============================] - 0s 2ms/step - loss: 0.5444 - accuracy: 0.8029 - val_loss: 0.2277 - val_accuracy: 0.9632\n",
      "Epoch 142/1000\n",
      " 1/30 [>.............................] - ETA: 0s - loss: 0.3903 - accuracy: 0.9062\n",
      "Epoch 142: saving model to model/keypoint_classifier\\keypoint_classifier.hdf5\n",
      "30/30 [==============================] - 0s 2ms/step - loss: 0.5231 - accuracy: 0.8091 - val_loss: 0.2317 - val_accuracy: 0.9584\n",
      "Epoch 143/1000\n",
      " 1/30 [>.............................] - ETA: 0s - loss: 0.5711 - accuracy: 0.8203\n",
      "Epoch 143: saving model to model/keypoint_classifier\\keypoint_classifier.hdf5\n",
      "30/30 [==============================] - 0s 2ms/step - loss: 0.5535 - accuracy: 0.7965 - val_loss: 0.2411 - val_accuracy: 0.9520\n",
      "Epoch 144/1000\n",
      " 1/30 [>.............................] - ETA: 0s - loss: 0.4605 - accuracy: 0.8359\n",
      "Epoch 144: saving model to model/keypoint_classifier\\keypoint_classifier.hdf5\n",
      "30/30 [==============================] - 0s 2ms/step - loss: 0.5555 - accuracy: 0.7960 - val_loss: 0.2384 - val_accuracy: 0.9576\n",
      "Epoch 145/1000\n",
      " 1/30 [>.............................] - ETA: 0s - loss: 0.5218 - accuracy: 0.8125\n",
      "Epoch 145: saving model to model/keypoint_classifier\\keypoint_classifier.hdf5\n",
      "30/30 [==============================] - 0s 2ms/step - loss: 0.5303 - accuracy: 0.8096 - val_loss: 0.2377 - val_accuracy: 0.9576\n",
      "Epoch 146/1000\n",
      " 1/30 [>.............................] - ETA: 0s - loss: 0.4830 - accuracy: 0.7969\n",
      "Epoch 146: saving model to model/keypoint_classifier\\keypoint_classifier.hdf5\n",
      "30/30 [==============================] - 0s 2ms/step - loss: 0.5343 - accuracy: 0.8013 - val_loss: 0.2290 - val_accuracy: 0.9608\n",
      "Epoch 147/1000\n",
      " 1/30 [>.............................] - ETA: 0s - loss: 0.5242 - accuracy: 0.8281\n",
      "Epoch 147: saving model to model/keypoint_classifier\\keypoint_classifier.hdf5\n",
      "30/30 [==============================] - 0s 2ms/step - loss: 0.5133 - accuracy: 0.8037 - val_loss: 0.2350 - val_accuracy: 0.9576\n",
      "Epoch 148/1000\n",
      " 1/30 [>.............................] - ETA: 0s - loss: 0.5351 - accuracy: 0.8125\n",
      "Epoch 148: saving model to model/keypoint_classifier\\keypoint_classifier.hdf5\n",
      "30/30 [==============================] - 0s 2ms/step - loss: 0.5422 - accuracy: 0.7992 - val_loss: 0.2368 - val_accuracy: 0.9568\n",
      "Epoch 149/1000\n",
      " 1/30 [>.............................] - ETA: 0s - loss: 0.6248 - accuracy: 0.7891\n",
      "Epoch 149: saving model to model/keypoint_classifier\\keypoint_classifier.hdf5\n",
      "30/30 [==============================] - 0s 2ms/step - loss: 0.5461 - accuracy: 0.7979 - val_loss: 0.2322 - val_accuracy: 0.9592\n",
      "Epoch 150/1000\n",
      " 1/30 [>.............................] - ETA: 0s - loss: 0.4281 - accuracy: 0.8750\n",
      "Epoch 150: saving model to model/keypoint_classifier\\keypoint_classifier.hdf5\n",
      "30/30 [==============================] - 0s 2ms/step - loss: 0.5423 - accuracy: 0.8013 - val_loss: 0.2286 - val_accuracy: 0.9584\n",
      "Epoch 151/1000\n",
      " 1/30 [>.............................] - ETA: 0s - loss: 0.5450 - accuracy: 0.7969\n",
      "Epoch 151: saving model to model/keypoint_classifier\\keypoint_classifier.hdf5\n",
      "30/30 [==============================] - 0s 2ms/step - loss: 0.5272 - accuracy: 0.8016 - val_loss: 0.2325 - val_accuracy: 0.9576\n",
      "Epoch 151: early stopping\n"
     ]
    },
    {
     "data": {
      "text/plain": [
       "<keras.src.callbacks.History at 0x27c0b8e0b20>"
      ]
     },
     "execution_count": 56,
     "metadata": {},
     "output_type": "execute_result"
    }
   ],
   "source": [
    "model.fit(\n",
    "    X_train,\n",
    "    y_train,\n",
    "    epochs=1000,\n",
    "    batch_size=128,\n",
    "    validation_data=(X_test, y_test),\n",
    "    callbacks=[cp_callback, es_callback]\n",
    ")"
   ]
  },
  {
   "cell_type": "code",
   "execution_count": 57,
   "metadata": {},
   "outputs": [
    {
     "name": "stdout",
     "output_type": "stream",
     "text": [
      "10/10 [==============================] - 0s 910us/step - loss: 0.2325 - accuracy: 0.9576\n"
     ]
    }
   ],
   "source": [
    "# モデル評価\n",
    "val_loss, val_acc = model.evaluate(X_test, y_test, batch_size=128)"
   ]
  },
  {
   "cell_type": "code",
   "execution_count": 58,
   "metadata": {},
   "outputs": [],
   "source": [
    "# 保存したモデルのロード\n",
    "model = tf.keras.models.load_model(model_save_path)"
   ]
  },
  {
   "cell_type": "code",
   "execution_count": 59,
   "metadata": {},
   "outputs": [
    {
     "name": "stdout",
     "output_type": "stream",
     "text": [
      "1/1 [==============================] - 0s 50ms/step\n",
      "[9.8103034e-01 1.7872075e-02 1.0572694e-03 3.7824251e-05 2.4642056e-06]\n",
      "0\n"
     ]
    }
   ],
   "source": [
    "# 推論テスト\n",
    "predict_result = model.predict(np.array([X_test[0]]))\n",
    "print(np.squeeze(predict_result))\n",
    "print(np.argmax(np.squeeze(predict_result)))"
   ]
  },
  {
   "cell_type": "markdown",
   "metadata": {},
   "source": [
    "# 混同行列"
   ]
  },
  {
   "cell_type": "code",
   "execution_count": 60,
   "metadata": {},
   "outputs": [
    {
     "name": "stdout",
     "output_type": "stream",
     "text": [
      "40/40 [==============================] - 0s 613us/step\n"
     ]
    },
    {
     "data": {
      "image/png": "[encoded data removed]",
      "text/plain": [
       "<Figure size 700x600 with 2 Axes>"
      ]
     },
     "metadata": {},
     "output_type": "display_data"
    },
    {
     "name": "stdout",
     "output_type": "stream",
     "text": [
      "Classification Report\n",
      "              precision    recall  f1-score   support\n",
      "\n",
      "           0       0.98      0.99      0.98       394\n",
      "           1       0.97      0.93      0.95       368\n",
      "           2       0.92      0.98      0.95       343\n",
      "           3       0.96      1.00      0.98        91\n",
      "           4       0.97      0.70      0.81        53\n",
      "\n",
      "    accuracy                           0.96      1249\n",
      "   macro avg       0.96      0.92      0.93      1249\n",
      "weighted avg       0.96      0.96      0.96      1249\n",
      "\n"
     ]
    }
   ],
   "source": [
    "import pandas as pd\n",
    "import seaborn as sns\n",
    "import matplotlib.pyplot as plt\n",
    "from sklearn.metrics import confusion_matrix, classification_report\n",
    "\n",
    "def print_confusion_matrix(y_true, y_pred, report=True):\n",
    "    labels = sorted(list(set(y_true)))\n",
    "    cmx_data = confusion_matrix(y_true, y_pred, labels=labels)\n",
    "    \n",
    "    df_cmx = pd.DataFrame(cmx_data, index=labels, columns=labels)\n",
    " \n",
    "    fig, ax = plt.subplots(figsize=(7, 6))\n",
    "    sns.heatmap(df_cmx, annot=True, fmt='g' ,square=False)\n",
    "    ax.set_ylim(len(set(y_true)), 0)\n",
    "    plt.show()\n",
    "    \n",
    "    if report:\n",
    "        print('Classification Report')\n",
    "        print(classification_report(y_test, y_pred))\n",
    "\n",
    "Y_pred = model.predict(X_test)\n",
    "y_pred = np.argmax(Y_pred, axis=1)\n",
    "\n",
    "print_confusion_matrix(y_test, y_pred)"
   ]
  },
  {
   "cell_type": "markdown",
   "metadata": {},
   "source": [
    "# Tensorflow-Lite用のモデルへ変換"
   ]
  },
  {
   "cell_type": "code",
   "execution_count": 61,
   "metadata": {},
   "outputs": [
    {
     "name": "stderr",
     "output_type": "stream",
     "text": [
      "c:\\Users\\Ck\\OneDrive\\UPD Docs\\III - Electronics Engineering\\Academic Units\\2nd Semester\\CoE 197Z\\ME4\\.venv\\lib\\site-packages\\keras\\src\\engine\\training.py:3103: UserWarning: You are saving your model as an HDF5 file via `model.save()`. This file format is considered legacy. We recommend using instead the native Keras format, e.g. `model.save('my_model.keras')`.\n",
      "  saving_api.save_model(\n"
     ]
    }
   ],
   "source": [
    "# 推論専用のモデルとして保存\n",
    "model.save(model_save_path, include_optimizer=False)"
   ]
  },
  {
   "cell_type": "code",
   "execution_count": 62,
   "metadata": {},
   "outputs": [
    {
     "name": "stdout",
     "output_type": "stream",
     "text": [
      "INFO:tensorflow:Assets written to: C:\\Users\\Ck\\AppData\\Local\\Temp\\tmpca34kt4u\\assets\n"
     ]
    },
    {
     "name": "stderr",
     "output_type": "stream",
     "text": [
      "INFO:tensorflow:Assets written to: C:\\Users\\Ck\\AppData\\Local\\Temp\\tmpca34kt4u\\assets\n"
     ]
    },
    {
     "data": {
      "text/plain": [
       "6616"
      ]
     },
     "execution_count": 62,
     "metadata": {},
     "output_type": "execute_result"
    }
   ],
   "source": [
    "# モデルを変換(量子化)\n",
    "tflite_save_path = 'model/keypoint_classifier/keypoint_classifier.tflite'\n",
    "\n",
    "converter = tf.lite.TFLiteConverter.from_keras_model(model)\n",
    "converter.optimizations = [tf.lite.Optimize.DEFAULT]\n",
    "tflite_quantized_model = converter.convert()\n",
    "\n",
    "open(tflite_save_path, 'wb').write(tflite_quantized_model)"
   ]
  },
  {
   "cell_type": "markdown",
   "metadata": {},
   "source": [
    "# 推論テスト"
   ]
  },
  {
   "cell_type": "code",
   "execution_count": 63,
   "metadata": {},
   "outputs": [],
   "source": [
    "interpreter = tf.lite.Interpreter(model_path=tflite_save_path)\n",
    "interpreter.allocate_tensors()"
   ]
  },
  {
   "cell_type": "code",
   "execution_count": 64,
   "metadata": {},
   "outputs": [],
   "source": [
    "# 入出力テンソルを取得\n",
    "input_details = interpreter.get_input_details()\n",
    "output_details = interpreter.get_output_details()"
   ]
  },
  {
   "cell_type": "code",
   "execution_count": 65,
   "metadata": {},
   "outputs": [],
   "source": [
    "interpreter.set_tensor(input_details[0]['index'], np.array([X_test[0]]))"
   ]
  },
  {
   "cell_type": "code",
   "execution_count": 66,
   "metadata": {
    "scrolled": true
   },
   "outputs": [
    {
     "name": "stdout",
     "output_type": "stream",
     "text": [
      "CPU times: total: 0 ns\n",
      "Wall time: 0 ns\n"
     ]
    }
   ],
   "source": [
    "%%time\n",
    "# 推論実施\n",
    "interpreter.invoke()\n",
    "tflite_results = interpreter.get_tensor(output_details[0]['index'])"
   ]
  },
  {
   "cell_type": "code",
   "execution_count": 67,
   "metadata": {},
   "outputs": [
    {
     "name": "stdout",
     "output_type": "stream",
     "text": [
      "[9.8103034e-01 1.7872065e-02 1.0572682e-03 3.7824211e-05 2.4642009e-06]\n",
      "0\n"
     ]
    }
   ],
   "source": [
    "print(np.squeeze(tflite_results))\n",
    "print(np.argmax(np.squeeze(tflite_results)))"
   ]
  }
 ],
 "metadata": {
  "kernelspec": {
   "display_name": ".venv",
   "language": "python",
   "name": "python3"
  },
  "language_info": {
   "codemirror_mode": {
    "name": "ipython",
    "version": 3
   },
   "file_extension": ".py",
   "mimetype": "text/x-python",
   "name": "python",
   "nbconvert_exporter": "python",
   "pygments_lexer": "ipython3",
   "version": "3.10.11"
  }
 },
 "nbformat": 4,
 "nbformat_minor": 4
}
