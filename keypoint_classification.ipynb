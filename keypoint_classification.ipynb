{
 "cells": [
  {
   "cell_type": "code",
   "execution_count": 192,
   "metadata": {},
   "outputs": [],
   "source": [
    "import csv\n",
    "\n",
    "import numpy as np\n",
    "import tensorflow as tf\n",
    "from sklearn.model_selection import train_test_split\n",
    "\n",
    "RANDOM_SEED = 42"
   ]
  },
  {
   "cell_type": "markdown",
   "metadata": {},
   "source": [
    "# 各パス指定"
   ]
  },
  {
   "cell_type": "code",
   "execution_count": 193,
   "metadata": {},
   "outputs": [],
   "source": [
    "dataset = 'model/keypoint_classifier/keypoint.csv'\n",
    "model_save_path = 'model/keypoint_classifier/keypoint_classifier.hdf5'"
   ]
  },
  {
   "cell_type": "markdown",
   "metadata": {},
   "source": [
    "# 分類数設定"
   ]
  },
  {
   "cell_type": "code",
   "execution_count": 194,
   "metadata": {},
   "outputs": [],
   "source": [
    "NUM_CLASSES = 4"
   ]
  },
  {
   "cell_type": "markdown",
   "metadata": {},
   "source": [
    "# 学習データ読み込み"
   ]
  },
  {
   "cell_type": "code",
   "execution_count": 195,
   "metadata": {},
   "outputs": [],
   "source": [
    "X_dataset = np.loadtxt(dataset, delimiter=',', dtype='float32', usecols=list(range(1, (21 * 2) + 1)))"
   ]
  },
  {
   "cell_type": "code",
   "execution_count": 196,
   "metadata": {},
   "outputs": [],
   "source": [
    "y_dataset = np.loadtxt(dataset, delimiter=',', dtype='int32', usecols=(0))"
   ]
  },
  {
   "cell_type": "code",
   "execution_count": 197,
   "metadata": {},
   "outputs": [],
   "source": [
    "X_train, X_test, y_train, y_test = train_test_split(X_dataset, y_dataset, train_size=0.75, random_state=RANDOM_SEED)"
   ]
  },
  {
   "cell_type": "markdown",
   "metadata": {},
   "source": [
    "# モデル構築"
   ]
  },
  {
   "cell_type": "code",
   "execution_count": 198,
   "metadata": {},
   "outputs": [],
   "source": [
    "model = tf.keras.models.Sequential([\n",
    "    tf.keras.layers.Input((21 * 2, )),\n",
    "    tf.keras.layers.Dropout(0.2),\n",
    "    tf.keras.layers.Dense(20, activation='relu'),\n",
    "    tf.keras.layers.Dropout(0.4),\n",
    "    tf.keras.layers.Dense(10, activation='relu'),\n",
    "    tf.keras.layers.Dense(NUM_CLASSES, activation='softmax')\n",
    "])"
   ]
  },
  {
   "cell_type": "code",
   "execution_count": 199,
   "metadata": {},
   "outputs": [
    {
     "name": "stdout",
     "output_type": "stream",
     "text": [
      "Model: \"sequential_9\"\n",
      "_________________________________________________________________\n",
      " Layer (type)                Output Shape              Param #   \n",
      "=================================================================\n",
      " dropout_18 (Dropout)        (None, 42)                0         \n",
      "                                                                 \n",
      " dense_27 (Dense)            (None, 20)                860       \n",
      "                                                                 \n",
      " dropout_19 (Dropout)        (None, 20)                0         \n",
      "                                                                 \n",
      " dense_28 (Dense)            (None, 10)                210       \n",
      "                                                                 \n",
      " dense_29 (Dense)            (None, 4)                 44        \n",
      "                                                                 \n",
      "=================================================================\n",
      "Total params: 1114 (4.35 KB)\n",
      "Trainable params: 1114 (4.35 KB)\n",
      "Non-trainable params: 0 (0.00 Byte)\n",
      "_________________________________________________________________\n"
     ]
    }
   ],
   "source": [
    "model.summary()  # tf.keras.utils.plot_model(model, show_shapes=True)"
   ]
  },
  {
   "cell_type": "code",
   "execution_count": 200,
   "metadata": {},
   "outputs": [],
   "source": [
    "# モデルチェックポイントのコールバック\n",
    "cp_callback = tf.keras.callbacks.ModelCheckpoint(\n",
    "    model_save_path, verbose=1, save_weights_only=False)\n",
    "# 早期打ち切り用コールバック\n",
    "es_callback = tf.keras.callbacks.EarlyStopping(patience=20, verbose=1)"
   ]
  },
  {
   "cell_type": "code",
   "execution_count": 201,
   "metadata": {},
   "outputs": [],
   "source": [
    "# モデルコンパイル\n",
    "model.compile(\n",
    "    optimizer='adam',\n",
    "    loss='sparse_categorical_crossentropy',\n",
    "    metrics=['accuracy']\n",
    ")"
   ]
  },
  {
   "cell_type": "markdown",
   "metadata": {},
   "source": [
    "# モデル訓練"
   ]
  },
  {
   "cell_type": "code",
   "execution_count": null,
   "metadata": {
    "scrolled": true
   },
   "outputs": [
    {
     "name": "stdout",
     "output_type": "stream",
     "text": [
      "Epoch 1/1000\n",
      " 1/15 [=>............................] - ETA: 4s - loss: 1.3270 - accuracy: 0.3828\n",
      "Epoch 1: saving model to model/keypoint_classifier\\keypoint_classifier.hdf5\n",
      "15/15 [==============================] - 0s 10ms/step - loss: 1.2609 - accuracy: 0.4745 - val_loss: 1.2057 - val_accuracy: 0.6266\n",
      "Epoch 2/1000\n",
      " 1/15 [=>............................] - ETA: 0s - loss: 1.2047 - accuracy: 0.5234\n",
      "Epoch 2: saving model to model/keypoint_classifier\\keypoint_classifier.hdf5\n",
      "15/15 [==============================] - 0s 4ms/step - loss: 1.1270 - accuracy: 0.6011 - val_loss: 1.0651 - val_accuracy: 0.6297\n",
      "Epoch 3/1000\n",
      " 1/15 [=>............................] - ETA: 0s - loss: 0.9804 - accuracy: 0.6719\n",
      "Epoch 3: saving model to model/keypoint_classifier\\keypoint_classifier.hdf5\n",
      "15/15 [==============================] - 0s 4ms/step - loss: 1.0289 - accuracy: 0.6309 - val_loss: 0.9700 - val_accuracy: 0.6297\n",
      "Epoch 4/1000\n",
      " 1/15 [=>............................] - ETA: 0s - loss: 0.9692 - accuracy: 0.6719\n",
      "Epoch 4: saving model to model/keypoint_classifier\\keypoint_classifier.hdf5\n",
      "15/15 [==============================] - 0s 4ms/step - loss: 0.9616 - accuracy: 0.6413 - val_loss: 0.9138 - val_accuracy: 0.6297\n"
     ]
    },
    {
     "name": "stderr",
     "output_type": "stream",
     "text": [
      "c:\\Users\\Ck\\OneDrive\\UPD Docs\\III - Electronics Engineering\\Academic Units\\2nd Semester\\CoE 197Z\\ME4\\.venv\\lib\\site-packages\\keras\\src\\engine\\training.py:3103: UserWarning: You are saving your model as an HDF5 file via `model.save()`. This file format is considered legacy. We recommend using instead the native Keras format, e.g. `model.save('my_model.keras')`.\n",
      "  saving_api.save_model(\n"
     ]
    },
    {
     "name": "stdout",
     "output_type": "stream",
     "text": [
      "Epoch 5/1000\n",
      " 1/15 [=>............................] - ETA: 0s - loss: 1.0055 - accuracy: 0.5938\n",
      "Epoch 5: saving model to model/keypoint_classifier\\keypoint_classifier.hdf5\n",
      "15/15 [==============================] - 0s 4ms/step - loss: 0.9270 - accuracy: 0.6376 - val_loss: 0.8797 - val_accuracy: 0.6297\n",
      "Epoch 6/1000\n",
      " 1/15 [=>............................] - ETA: 0s - loss: 0.8793 - accuracy: 0.6641\n",
      "Epoch 6: saving model to model/keypoint_classifier\\keypoint_classifier.hdf5\n",
      "15/15 [==============================] - 0s 4ms/step - loss: 0.9097 - accuracy: 0.6371 - val_loss: 0.8554 - val_accuracy: 0.6297\n",
      "Epoch 7/1000\n",
      " 1/15 [=>............................] - ETA: 0s - loss: 0.8702 - accuracy: 0.6719\n",
      "Epoch 7: saving model to model/keypoint_classifier\\keypoint_classifier.hdf5\n",
      "15/15 [==============================] - 0s 4ms/step - loss: 0.8646 - accuracy: 0.6475 - val_loss: 0.8327 - val_accuracy: 0.6297\n",
      "Epoch 8/1000\n",
      " 1/15 [=>............................] - ETA: 0s - loss: 0.7381 - accuracy: 0.7422\n",
      "Epoch 8: saving model to model/keypoint_classifier\\keypoint_classifier.hdf5\n",
      "15/15 [==============================] - 0s 3ms/step - loss: 0.8716 - accuracy: 0.6423 - val_loss: 0.8136 - val_accuracy: 0.6297\n",
      "Epoch 9/1000\n",
      " 1/15 [=>............................] - ETA: 0s - loss: 0.8664 - accuracy: 0.6328\n",
      "Epoch 9: saving model to model/keypoint_classifier\\keypoint_classifier.hdf5\n",
      "15/15 [==============================] - 0s 3ms/step - loss: 0.8551 - accuracy: 0.6444 - val_loss: 0.7973 - val_accuracy: 0.6297\n",
      "Epoch 10/1000\n",
      " 1/15 [=>............................] - ETA: 0s - loss: 0.8508 - accuracy: 0.6328\n",
      "Epoch 10: saving model to model/keypoint_classifier\\keypoint_classifier.hdf5\n",
      "15/15 [==============================] - 0s 3ms/step - loss: 0.8220 - accuracy: 0.6470 - val_loss: 0.7774 - val_accuracy: 0.6297\n",
      "Epoch 11/1000\n",
      " 1/15 [=>............................] - ETA: 0s - loss: 0.8475 - accuracy: 0.5938\n",
      "Epoch 11: saving model to model/keypoint_classifier\\keypoint_classifier.hdf5\n",
      "15/15 [==============================] - 0s 3ms/step - loss: 0.8062 - accuracy: 0.6470 - val_loss: 0.7586 - val_accuracy: 0.6297\n",
      "Epoch 12/1000\n",
      " 1/15 [=>............................] - ETA: 0s - loss: 0.8222 - accuracy: 0.6250\n",
      "Epoch 12: saving model to model/keypoint_classifier\\keypoint_classifier.hdf5\n",
      "15/15 [==============================] - 0s 3ms/step - loss: 0.7888 - accuracy: 0.6481 - val_loss: 0.7399 - val_accuracy: 0.6297\n",
      "Epoch 13/1000\n",
      " 1/15 [=>............................] - ETA: 0s - loss: 0.7865 - accuracy: 0.6719\n",
      "Epoch 13: saving model to model/keypoint_classifier\\keypoint_classifier.hdf5\n",
      "15/15 [==============================] - 0s 3ms/step - loss: 0.7688 - accuracy: 0.6575 - val_loss: 0.7228 - val_accuracy: 0.6359\n",
      "Epoch 14/1000\n",
      " 1/15 [=>............................] - ETA: 0s - loss: 0.7092 - accuracy: 0.7188\n",
      "Epoch 14: saving model to model/keypoint_classifier\\keypoint_classifier.hdf5\n",
      "15/15 [==============================] - 0s 3ms/step - loss: 0.7529 - accuracy: 0.6606 - val_loss: 0.7031 - val_accuracy: 0.6562\n",
      "Epoch 15/1000\n",
      " 1/15 [=>............................] - ETA: 0s - loss: 0.7251 - accuracy: 0.6797\n",
      "Epoch 15: saving model to model/keypoint_classifier\\keypoint_classifier.hdf5\n",
      "15/15 [==============================] - 0s 3ms/step - loss: 0.7430 - accuracy: 0.6595 - val_loss: 0.6838 - val_accuracy: 0.6625\n",
      "Epoch 16/1000\n",
      " 1/15 [=>............................] - ETA: 0s - loss: 0.7739 - accuracy: 0.6797\n",
      "Epoch 16: saving model to model/keypoint_classifier\\keypoint_classifier.hdf5\n",
      "15/15 [==============================] - 0s 3ms/step - loss: 0.7249 - accuracy: 0.6621 - val_loss: 0.6616 - val_accuracy: 0.6687\n",
      "Epoch 17/1000\n",
      " 1/15 [=>............................] - ETA: 0s - loss: 0.6672 - accuracy: 0.6719\n",
      "Epoch 17: saving model to model/keypoint_classifier\\keypoint_classifier.hdf5\n",
      "15/15 [==============================] - 0s 3ms/step - loss: 0.7160 - accuracy: 0.6700 - val_loss: 0.6389 - val_accuracy: 0.6812\n",
      "Epoch 18/1000\n",
      " 1/15 [=>............................] - ETA: 0s - loss: 0.7442 - accuracy: 0.6641\n",
      "Epoch 18: saving model to model/keypoint_classifier\\keypoint_classifier.hdf5\n",
      "15/15 [==============================] - 0s 3ms/step - loss: 0.6989 - accuracy: 0.6861 - val_loss: 0.6168 - val_accuracy: 0.6922\n",
      "Epoch 19/1000\n",
      " 1/15 [=>............................] - ETA: 0s - loss: 0.7149 - accuracy: 0.7031\n",
      "Epoch 19: saving model to model/keypoint_classifier\\keypoint_classifier.hdf5\n",
      "15/15 [==============================] - 0s 3ms/step - loss: 0.6792 - accuracy: 0.6788 - val_loss: 0.5930 - val_accuracy: 0.6953\n",
      "Epoch 20/1000\n",
      " 1/15 [=>............................] - ETA: 0s - loss: 0.6553 - accuracy: 0.6641\n",
      "Epoch 20: saving model to model/keypoint_classifier\\keypoint_classifier.hdf5\n",
      "15/15 [==============================] - 0s 3ms/step - loss: 0.6760 - accuracy: 0.6971 - val_loss: 0.5707 - val_accuracy: 0.7094\n",
      "Epoch 21/1000\n",
      " 1/15 [=>............................] - ETA: 0s - loss: 0.6231 - accuracy: 0.7344\n",
      "Epoch 21: saving model to model/keypoint_classifier\\keypoint_classifier.hdf5\n",
      "15/15 [==============================] - 0s 4ms/step - loss: 0.6437 - accuracy: 0.7117 - val_loss: 0.5551 - val_accuracy: 0.7547\n",
      "Epoch 22/1000\n",
      " 1/15 [=>............................] - ETA: 0s - loss: 0.6495 - accuracy: 0.7031\n",
      "Epoch 22: saving model to model/keypoint_classifier\\keypoint_classifier.hdf5\n",
      "15/15 [==============================] - 0s 4ms/step - loss: 0.6389 - accuracy: 0.7101 - val_loss: 0.5366 - val_accuracy: 0.7781\n",
      "Epoch 23/1000\n",
      " 1/15 [=>............................] - ETA: 0s - loss: 0.7459 - accuracy: 0.6562\n",
      "Epoch 23: saving model to model/keypoint_classifier\\keypoint_classifier.hdf5\n",
      "15/15 [==============================] - 0s 4ms/step - loss: 0.6101 - accuracy: 0.7304 - val_loss: 0.5138 - val_accuracy: 0.8031\n",
      "Epoch 24/1000\n",
      " 1/15 [=>............................] - ETA: 0s - loss: 0.5547 - accuracy: 0.7734\n",
      "Epoch 24: saving model to model/keypoint_classifier\\keypoint_classifier.hdf5\n",
      "15/15 [==============================] - 0s 4ms/step - loss: 0.6079 - accuracy: 0.7456 - val_loss: 0.4956 - val_accuracy: 0.7984\n",
      "Epoch 25/1000\n",
      " 1/15 [=>............................] - ETA: 0s - loss: 0.5976 - accuracy: 0.7109\n",
      "Epoch 25: saving model to model/keypoint_classifier\\keypoint_classifier.hdf5\n",
      "15/15 [==============================] - 0s 3ms/step - loss: 0.5951 - accuracy: 0.7320 - val_loss: 0.4764 - val_accuracy: 0.8687\n",
      "Epoch 26/1000\n",
      " 1/15 [=>............................] - ETA: 0s - loss: 0.7116 - accuracy: 0.6641\n",
      "Epoch 26: saving model to model/keypoint_classifier\\keypoint_classifier.hdf5\n",
      "15/15 [==============================] - 0s 3ms/step - loss: 0.6015 - accuracy: 0.7304 - val_loss: 0.4622 - val_accuracy: 0.8609\n",
      "Epoch 27/1000\n",
      " 1/15 [=>............................] - ETA: 0s - loss: 0.6107 - accuracy: 0.7266\n",
      "Epoch 27: saving model to model/keypoint_classifier\\keypoint_classifier.hdf5\n",
      "15/15 [==============================] - 0s 3ms/step - loss: 0.5751 - accuracy: 0.7492 - val_loss: 0.4486 - val_accuracy: 0.8797\n",
      "Epoch 28/1000\n",
      " 1/15 [=>............................] - ETA: 0s - loss: 0.5640 - accuracy: 0.7812\n",
      "Epoch 28: saving model to model/keypoint_classifier\\keypoint_classifier.hdf5\n",
      "15/15 [==============================] - 0s 3ms/step - loss: 0.5735 - accuracy: 0.7477 - val_loss: 0.4348 - val_accuracy: 0.8781\n",
      "Epoch 29/1000\n",
      " 1/15 [=>............................] - ETA: 0s - loss: 0.5949 - accuracy: 0.7109\n",
      "Epoch 29: saving model to model/keypoint_classifier\\keypoint_classifier.hdf5\n",
      "15/15 [==============================] - 0s 3ms/step - loss: 0.5556 - accuracy: 0.7529 - val_loss: 0.4248 - val_accuracy: 0.8828\n",
      "Epoch 30/1000\n",
      " 1/15 [=>............................] - ETA: 0s - loss: 0.5345 - accuracy: 0.7812\n",
      "Epoch 30: saving model to model/keypoint_classifier\\keypoint_classifier.hdf5\n",
      "15/15 [==============================] - 0s 4ms/step - loss: 0.5647 - accuracy: 0.7461 - val_loss: 0.4153 - val_accuracy: 0.8828\n",
      "Epoch 31/1000\n",
      " 1/15 [=>............................] - ETA: 0s - loss: 0.5370 - accuracy: 0.7734\n",
      "Epoch 31: saving model to model/keypoint_classifier\\keypoint_classifier.hdf5\n",
      "15/15 [==============================] - 0s 3ms/step - loss: 0.5478 - accuracy: 0.7638 - val_loss: 0.4054 - val_accuracy: 0.8797\n",
      "Epoch 32/1000\n",
      " 1/15 [=>............................] - ETA: 0s - loss: 0.4742 - accuracy: 0.7656\n",
      "Epoch 32: saving model to model/keypoint_classifier\\keypoint_classifier.hdf5\n",
      "15/15 [==============================] - 0s 3ms/step - loss: 0.5288 - accuracy: 0.7815 - val_loss: 0.3975 - val_accuracy: 0.8766\n",
      "Epoch 33/1000\n",
      " 1/15 [=>............................] - ETA: 0s - loss: 0.5671 - accuracy: 0.7422\n",
      "Epoch 33: saving model to model/keypoint_classifier\\keypoint_classifier.hdf5\n",
      "15/15 [==============================] - 0s 4ms/step - loss: 0.5236 - accuracy: 0.7664 - val_loss: 0.3866 - val_accuracy: 0.8797\n",
      "Epoch 34/1000\n",
      " 1/15 [=>............................] - ETA: 0s - loss: 0.5858 - accuracy: 0.7812\n",
      "Epoch 34: saving model to model/keypoint_classifier\\keypoint_classifier.hdf5\n",
      "15/15 [==============================] - 0s 4ms/step - loss: 0.5440 - accuracy: 0.7669 - val_loss: 0.3827 - val_accuracy: 0.8813\n",
      "Epoch 35/1000\n",
      " 1/15 [=>............................] - ETA: 0s - loss: 0.5076 - accuracy: 0.8047\n",
      "Epoch 35: saving model to model/keypoint_classifier\\keypoint_classifier.hdf5\n",
      "15/15 [==============================] - 0s 4ms/step - loss: 0.5314 - accuracy: 0.7643 - val_loss: 0.3780 - val_accuracy: 0.8859\n",
      "Epoch 36/1000\n",
      " 1/15 [=>............................] - ETA: 0s - loss: 0.6142 - accuracy: 0.7266\n",
      "Epoch 36: saving model to model/keypoint_classifier\\keypoint_classifier.hdf5\n",
      "15/15 [==============================] - 0s 4ms/step - loss: 0.5188 - accuracy: 0.7763 - val_loss: 0.3683 - val_accuracy: 0.8828\n",
      "Epoch 37/1000\n",
      " 1/15 [=>............................] - ETA: 0s - loss: 0.5132 - accuracy: 0.7891\n",
      "Epoch 37: saving model to model/keypoint_classifier\\keypoint_classifier.hdf5\n",
      "15/15 [==============================] - 0s 3ms/step - loss: 0.5146 - accuracy: 0.7706 - val_loss: 0.3645 - val_accuracy: 0.8906\n",
      "Epoch 38/1000\n",
      " 1/15 [=>............................] - ETA: 0s - loss: 0.5182 - accuracy: 0.7656\n",
      "Epoch 38: saving model to model/keypoint_classifier\\keypoint_classifier.hdf5\n",
      "15/15 [==============================] - 0s 3ms/step - loss: 0.5096 - accuracy: 0.7706 - val_loss: 0.3593 - val_accuracy: 0.8828\n",
      "Epoch 39/1000\n",
      " 1/15 [=>............................] - ETA: 0s - loss: 0.4375 - accuracy: 0.7969\n",
      "Epoch 39: saving model to model/keypoint_classifier\\keypoint_classifier.hdf5\n",
      "15/15 [==============================] - 0s 3ms/step - loss: 0.5016 - accuracy: 0.7753 - val_loss: 0.3501 - val_accuracy: 0.9031\n",
      "Epoch 40/1000\n",
      " 1/15 [=>............................] - ETA: 0s - loss: 0.5590 - accuracy: 0.7188\n",
      "Epoch 40: saving model to model/keypoint_classifier\\keypoint_classifier.hdf5\n",
      "15/15 [==============================] - 0s 3ms/step - loss: 0.4958 - accuracy: 0.7800 - val_loss: 0.3441 - val_accuracy: 0.9016\n",
      "Epoch 41/1000\n",
      " 1/15 [=>............................] - ETA: 0s - loss: 0.5078 - accuracy: 0.7656\n",
      "Epoch 41: saving model to model/keypoint_classifier\\keypoint_classifier.hdf5\n",
      "15/15 [==============================] - 0s 3ms/step - loss: 0.5056 - accuracy: 0.7737 - val_loss: 0.3414 - val_accuracy: 0.8875\n",
      "Epoch 42/1000\n",
      " 1/15 [=>............................] - ETA: 0s - loss: 0.4244 - accuracy: 0.8516\n",
      "Epoch 42: saving model to model/keypoint_classifier\\keypoint_classifier.hdf5\n",
      "15/15 [==============================] - 0s 4ms/step - loss: 0.4927 - accuracy: 0.7878 - val_loss: 0.3323 - val_accuracy: 0.9062\n",
      "Epoch 43/1000\n",
      " 1/15 [=>............................] - ETA: 0s - loss: 0.4424 - accuracy: 0.7891\n",
      "Epoch 43: saving model to model/keypoint_classifier\\keypoint_classifier.hdf5\n",
      "15/15 [==============================] - 0s 4ms/step - loss: 0.4882 - accuracy: 0.7894 - val_loss: 0.3288 - val_accuracy: 0.9172\n",
      "Epoch 44/1000\n",
      " 1/15 [=>............................] - ETA: 0s - loss: 0.4176 - accuracy: 0.8281\n",
      "Epoch 44: saving model to model/keypoint_classifier\\keypoint_classifier.hdf5\n",
      "15/15 [==============================] - 0s 3ms/step - loss: 0.4857 - accuracy: 0.7904 - val_loss: 0.3236 - val_accuracy: 0.9016\n",
      "Epoch 45/1000\n",
      " 1/15 [=>............................] - ETA: 0s - loss: 0.5145 - accuracy: 0.7969\n",
      "Epoch 45: saving model to model/keypoint_classifier\\keypoint_classifier.hdf5\n",
      "15/15 [==============================] - 0s 4ms/step - loss: 0.4804 - accuracy: 0.7852 - val_loss: 0.3210 - val_accuracy: 0.9016\n",
      "Epoch 46/1000\n",
      " 1/15 [=>............................] - ETA: 0s - loss: 0.4631 - accuracy: 0.8047\n",
      "Epoch 46: saving model to model/keypoint_classifier\\keypoint_classifier.hdf5\n",
      "15/15 [==============================] - 0s 3ms/step - loss: 0.4529 - accuracy: 0.8149 - val_loss: 0.3115 - val_accuracy: 0.9203\n",
      "Epoch 47/1000\n",
      " 1/15 [=>............................] - ETA: 0s - loss: 0.5434 - accuracy: 0.7578\n",
      "Epoch 47: saving model to model/keypoint_classifier\\keypoint_classifier.hdf5\n",
      "15/15 [==============================] - 0s 3ms/step - loss: 0.4771 - accuracy: 0.7883 - val_loss: 0.3038 - val_accuracy: 0.9219\n",
      "Epoch 48/1000\n",
      " 1/15 [=>............................] - ETA: 0s - loss: 0.4404 - accuracy: 0.8359\n",
      "Epoch 48: saving model to model/keypoint_classifier\\keypoint_classifier.hdf5\n",
      "15/15 [==============================] - 0s 3ms/step - loss: 0.4622 - accuracy: 0.8087 - val_loss: 0.3012 - val_accuracy: 0.9312\n",
      "Epoch 49/1000\n",
      " 1/15 [=>............................] - ETA: 0s - loss: 0.4693 - accuracy: 0.8125\n",
      "Epoch 49: saving model to model/keypoint_classifier\\keypoint_classifier.hdf5\n",
      "15/15 [==============================] - 0s 3ms/step - loss: 0.4353 - accuracy: 0.8102 - val_loss: 0.2957 - val_accuracy: 0.9219\n",
      "Epoch 50/1000\n",
      " 1/15 [=>............................] - ETA: 0s - loss: 0.4315 - accuracy: 0.8516\n",
      "Epoch 50: saving model to model/keypoint_classifier\\keypoint_classifier.hdf5\n",
      "15/15 [==============================] - 0s 3ms/step - loss: 0.4565 - accuracy: 0.8066 - val_loss: 0.2918 - val_accuracy: 0.9219\n",
      "Epoch 51/1000\n",
      " 1/15 [=>............................] - ETA: 0s - loss: 0.5421 - accuracy: 0.7969\n",
      "Epoch 51: saving model to model/keypoint_classifier\\keypoint_classifier.hdf5\n",
      "15/15 [==============================] - 0s 3ms/step - loss: 0.4802 - accuracy: 0.7795 - val_loss: 0.2953 - val_accuracy: 0.9219\n",
      "Epoch 52/1000\n",
      " 1/15 [=>............................] - ETA: 0s - loss: 0.3245 - accuracy: 0.8594\n",
      "Epoch 52: saving model to model/keypoint_classifier\\keypoint_classifier.hdf5\n",
      "15/15 [==============================] - 0s 3ms/step - loss: 0.4366 - accuracy: 0.8144 - val_loss: 0.2906 - val_accuracy: 0.9344\n",
      "Epoch 53/1000\n",
      " 1/15 [=>............................] - ETA: 0s - loss: 0.5015 - accuracy: 0.7422\n",
      "Epoch 53: saving model to model/keypoint_classifier\\keypoint_classifier.hdf5\n",
      "15/15 [==============================] - 0s 3ms/step - loss: 0.4618 - accuracy: 0.7982 - val_loss: 0.2911 - val_accuracy: 0.9375\n",
      "Epoch 54/1000\n",
      " 1/15 [=>............................] - ETA: 0s - loss: 0.4420 - accuracy: 0.8047\n",
      "Epoch 54: saving model to model/keypoint_classifier\\keypoint_classifier.hdf5\n",
      "15/15 [==============================] - 0s 3ms/step - loss: 0.4419 - accuracy: 0.8170 - val_loss: 0.2904 - val_accuracy: 0.9156\n",
      "Epoch 55/1000\n",
      " 1/15 [=>............................] - ETA: 0s - loss: 0.4597 - accuracy: 0.8359\n",
      "Epoch 55: saving model to model/keypoint_classifier\\keypoint_classifier.hdf5\n",
      "15/15 [==============================] - 0s 3ms/step - loss: 0.4621 - accuracy: 0.8008 - val_loss: 0.2868 - val_accuracy: 0.9219\n",
      "Epoch 56/1000\n",
      " 1/15 [=>............................] - ETA: 0s - loss: 0.4780 - accuracy: 0.7578\n",
      "Epoch 56: saving model to model/keypoint_classifier\\keypoint_classifier.hdf5\n",
      "15/15 [==============================] - 0s 3ms/step - loss: 0.4549 - accuracy: 0.8019 - val_loss: 0.2806 - val_accuracy: 0.9328\n",
      "Epoch 57/1000\n",
      " 1/15 [=>............................] - ETA: 0s - loss: 0.3516 - accuracy: 0.8438\n",
      "Epoch 57: saving model to model/keypoint_classifier\\keypoint_classifier.hdf5\n",
      "15/15 [==============================] - 0s 3ms/step - loss: 0.4276 - accuracy: 0.8233 - val_loss: 0.2815 - val_accuracy: 0.9250\n",
      "Epoch 58/1000\n",
      " 1/15 [=>............................] - ETA: 0s - loss: 0.5208 - accuracy: 0.7969\n",
      "Epoch 58: saving model to model/keypoint_classifier\\keypoint_classifier.hdf5\n",
      "15/15 [==============================] - 0s 3ms/step - loss: 0.4454 - accuracy: 0.8055 - val_loss: 0.2812 - val_accuracy: 0.9234\n",
      "Epoch 59/1000\n",
      " 1/15 [=>............................] - ETA: 0s - loss: 0.3746 - accuracy: 0.8359\n",
      "Epoch 59: saving model to model/keypoint_classifier\\keypoint_classifier.hdf5\n",
      "15/15 [==============================] - 0s 3ms/step - loss: 0.4378 - accuracy: 0.8180 - val_loss: 0.2680 - val_accuracy: 0.9359\n",
      "Epoch 60/1000\n",
      " 1/15 [=>............................] - ETA: 0s - loss: 0.4163 - accuracy: 0.8203\n",
      "Epoch 60: saving model to model/keypoint_classifier\\keypoint_classifier.hdf5\n",
      "15/15 [==============================] - 0s 3ms/step - loss: 0.4491 - accuracy: 0.7977 - val_loss: 0.2645 - val_accuracy: 0.9406\n",
      "Epoch 61/1000\n",
      " 1/15 [=>............................] - ETA: 0s - loss: 0.4583 - accuracy: 0.8203\n",
      "Epoch 61: saving model to model/keypoint_classifier\\keypoint_classifier.hdf5\n",
      "15/15 [==============================] - 0s 3ms/step - loss: 0.4399 - accuracy: 0.8008 - val_loss: 0.2615 - val_accuracy: 0.9422\n",
      "Epoch 62/1000\n",
      " 1/15 [=>............................] - ETA: 0s - loss: 0.4276 - accuracy: 0.8281\n",
      "Epoch 62: saving model to model/keypoint_classifier\\keypoint_classifier.hdf5\n",
      "15/15 [==============================] - 0s 4ms/step - loss: 0.4451 - accuracy: 0.8066 - val_loss: 0.2644 - val_accuracy: 0.9406\n",
      "Epoch 63/1000\n",
      " 1/15 [=>............................] - ETA: 0s - loss: 0.3915 - accuracy: 0.8359\n",
      "Epoch 63: saving model to model/keypoint_classifier\\keypoint_classifier.hdf5\n",
      "15/15 [==============================] - 0s 4ms/step - loss: 0.4433 - accuracy: 0.8034 - val_loss: 0.2653 - val_accuracy: 0.9391\n",
      "Epoch 64/1000\n",
      " 1/15 [=>............................] - ETA: 0s - loss: 0.4767 - accuracy: 0.8047\n",
      "Epoch 64: saving model to model/keypoint_classifier\\keypoint_classifier.hdf5\n",
      "15/15 [==============================] - 0s 3ms/step - loss: 0.4302 - accuracy: 0.8165 - val_loss: 0.2688 - val_accuracy: 0.9359\n",
      "Epoch 65/1000\n",
      " 1/15 [=>............................] - ETA: 0s - loss: 0.4913 - accuracy: 0.7812\n",
      "Epoch 65: saving model to model/keypoint_classifier\\keypoint_classifier.hdf5\n",
      "15/15 [==============================] - 0s 3ms/step - loss: 0.4326 - accuracy: 0.8097 - val_loss: 0.2693 - val_accuracy: 0.9422\n",
      "Epoch 66/1000\n",
      " 1/15 [=>............................] - ETA: 0s - loss: 0.3951 - accuracy: 0.8203\n",
      "Epoch 66: saving model to model/keypoint_classifier\\keypoint_classifier.hdf5\n",
      "15/15 [==============================] - 0s 3ms/step - loss: 0.4196 - accuracy: 0.8175 - val_loss: 0.2685 - val_accuracy: 0.9344\n",
      "Epoch 67/1000\n",
      " 1/15 [=>............................] - ETA: 0s - loss: 0.4788 - accuracy: 0.8047\n",
      "Epoch 67: saving model to model/keypoint_classifier\\keypoint_classifier.hdf5\n",
      "15/15 [==============================] - 0s 3ms/step - loss: 0.4317 - accuracy: 0.8102 - val_loss: 0.2713 - val_accuracy: 0.9281\n",
      "Epoch 68/1000\n",
      " 1/15 [=>............................] - ETA: 0s - loss: 0.4093 - accuracy: 0.8203\n",
      "Epoch 68: saving model to model/keypoint_classifier\\keypoint_classifier.hdf5\n",
      "15/15 [==============================] - 0s 3ms/step - loss: 0.4191 - accuracy: 0.8113 - val_loss: 0.2637 - val_accuracy: 0.9406\n",
      "Epoch 69/1000\n",
      " 1/15 [=>............................] - ETA: 0s - loss: 0.4734 - accuracy: 0.8047\n",
      "Epoch 69: saving model to model/keypoint_classifier\\keypoint_classifier.hdf5\n",
      "15/15 [==============================] - 0s 3ms/step - loss: 0.4494 - accuracy: 0.8107 - val_loss: 0.2615 - val_accuracy: 0.9453\n",
      "Epoch 70/1000\n",
      " 1/15 [=>............................] - ETA: 0s - loss: 0.5155 - accuracy: 0.7422\n",
      "Epoch 70: saving model to model/keypoint_classifier\\keypoint_classifier.hdf5\n",
      "15/15 [==============================] - 0s 3ms/step - loss: 0.4206 - accuracy: 0.8222 - val_loss: 0.2608 - val_accuracy: 0.9406\n",
      "Epoch 71/1000\n",
      " 1/15 [=>............................] - ETA: 0s - loss: 0.5295 - accuracy: 0.7344\n",
      "Epoch 71: saving model to model/keypoint_classifier\\keypoint_classifier.hdf5\n",
      "15/15 [==============================] - 0s 4ms/step - loss: 0.4111 - accuracy: 0.8186 - val_loss: 0.2554 - val_accuracy: 0.9484\n",
      "Epoch 72/1000\n",
      " 1/15 [=>............................] - ETA: 0s - loss: 0.3931 - accuracy: 0.8672\n",
      "Epoch 72: saving model to model/keypoint_classifier\\keypoint_classifier.hdf5\n",
      "15/15 [==============================] - 0s 4ms/step - loss: 0.4046 - accuracy: 0.8321 - val_loss: 0.2476 - val_accuracy: 0.9578\n",
      "Epoch 73/1000\n",
      " 1/15 [=>............................] - ETA: 0s - loss: 0.4281 - accuracy: 0.8438\n",
      "Epoch 73: saving model to model/keypoint_classifier\\keypoint_classifier.hdf5\n",
      "15/15 [==============================] - 0s 3ms/step - loss: 0.4157 - accuracy: 0.8196 - val_loss: 0.2530 - val_accuracy: 0.9438\n",
      "Epoch 74/1000\n",
      " 1/15 [=>............................] - ETA: 0s - loss: 0.4508 - accuracy: 0.7812\n",
      "Epoch 74: saving model to model/keypoint_classifier\\keypoint_classifier.hdf5\n",
      "15/15 [==============================] - 0s 3ms/step - loss: 0.4204 - accuracy: 0.8201 - val_loss: 0.2549 - val_accuracy: 0.9359\n",
      "Epoch 75/1000\n",
      " 1/15 [=>............................] - ETA: 0s - loss: 0.4340 - accuracy: 0.7969\n",
      "Epoch 75: saving model to model/keypoint_classifier\\keypoint_classifier.hdf5\n",
      "15/15 [==============================] - 0s 3ms/step - loss: 0.3970 - accuracy: 0.8316 - val_loss: 0.2425 - val_accuracy: 0.9484\n",
      "Epoch 76/1000\n",
      " 1/15 [=>............................] - ETA: 0s - loss: 0.4509 - accuracy: 0.7734\n",
      "Epoch 76: saving model to model/keypoint_classifier\\keypoint_classifier.hdf5\n",
      "15/15 [==============================] - 0s 3ms/step - loss: 0.4158 - accuracy: 0.8180 - val_loss: 0.2407 - val_accuracy: 0.9453\n",
      "Epoch 77/1000\n",
      " 1/15 [=>............................] - ETA: 0s - loss: 0.4589 - accuracy: 0.8125\n",
      "Epoch 77: saving model to model/keypoint_classifier\\keypoint_classifier.hdf5\n",
      "15/15 [==============================] - 0s 3ms/step - loss: 0.4049 - accuracy: 0.8264 - val_loss: 0.2436 - val_accuracy: 0.9484\n",
      "Epoch 78/1000\n",
      " 1/15 [=>............................] - ETA: 0s - loss: 0.3736 - accuracy: 0.8516\n",
      "Epoch 78: saving model to model/keypoint_classifier\\keypoint_classifier.hdf5\n",
      "15/15 [==============================] - 0s 3ms/step - loss: 0.4110 - accuracy: 0.8248 - val_loss: 0.2413 - val_accuracy: 0.9516\n",
      "Epoch 79/1000\n",
      " 1/15 [=>............................] - ETA: 0s - loss: 0.3743 - accuracy: 0.8281\n",
      "Epoch 79: saving model to model/keypoint_classifier\\keypoint_classifier.hdf5\n",
      "15/15 [==============================] - 0s 3ms/step - loss: 0.3919 - accuracy: 0.8441 - val_loss: 0.2397 - val_accuracy: 0.9484\n",
      "Epoch 80/1000\n",
      " 1/15 [=>............................] - ETA: 0s - loss: 0.5239 - accuracy: 0.7578\n",
      "Epoch 80: saving model to model/keypoint_classifier\\keypoint_classifier.hdf5\n",
      "15/15 [==============================] - 0s 3ms/step - loss: 0.4189 - accuracy: 0.8212 - val_loss: 0.2411 - val_accuracy: 0.9547\n",
      "Epoch 81/1000\n",
      " 1/15 [=>............................] - ETA: 0s - loss: 0.4371 - accuracy: 0.8203\n",
      "Epoch 81: saving model to model/keypoint_classifier\\keypoint_classifier.hdf5\n",
      "15/15 [==============================] - 0s 3ms/step - loss: 0.4049 - accuracy: 0.8394 - val_loss: 0.2367 - val_accuracy: 0.9578\n",
      "Epoch 82/1000\n",
      " 1/15 [=>............................] - ETA: 0s - loss: 0.4452 - accuracy: 0.8281\n",
      "Epoch 82: saving model to model/keypoint_classifier\\keypoint_classifier.hdf5\n",
      "15/15 [==============================] - 0s 3ms/step - loss: 0.3878 - accuracy: 0.8410 - val_loss: 0.2287 - val_accuracy: 0.9531\n",
      "Epoch 83/1000\n",
      " 1/15 [=>............................] - ETA: 0s - loss: 0.4829 - accuracy: 0.7812\n",
      "Epoch 83: saving model to model/keypoint_classifier\\keypoint_classifier.hdf5\n",
      "15/15 [==============================] - 0s 4ms/step - loss: 0.4122 - accuracy: 0.8238 - val_loss: 0.2305 - val_accuracy: 0.9500\n",
      "Epoch 84/1000\n",
      " 1/15 [=>............................] - ETA: 0s - loss: 0.4065 - accuracy: 0.8203\n",
      "Epoch 84: saving model to model/keypoint_classifier\\keypoint_classifier.hdf5\n",
      "15/15 [==============================] - 0s 3ms/step - loss: 0.4108 - accuracy: 0.8243 - val_loss: 0.2349 - val_accuracy: 0.9531\n",
      "Epoch 85/1000\n",
      " 1/15 [=>............................] - ETA: 0s - loss: 0.4130 - accuracy: 0.7969\n",
      "Epoch 85: saving model to model/keypoint_classifier\\keypoint_classifier.hdf5\n",
      "15/15 [==============================] - 0s 3ms/step - loss: 0.4074 - accuracy: 0.8160 - val_loss: 0.2394 - val_accuracy: 0.9578\n",
      "Epoch 86/1000\n",
      " 1/15 [=>............................] - ETA: 0s - loss: 0.4717 - accuracy: 0.7578\n",
      "Epoch 86: saving model to model/keypoint_classifier\\keypoint_classifier.hdf5\n",
      "15/15 [==============================] - 0s 3ms/step - loss: 0.3995 - accuracy: 0.8290 - val_loss: 0.2372 - val_accuracy: 0.9563\n",
      "Epoch 87/1000\n",
      " 1/15 [=>............................] - ETA: 0s - loss: 0.4336 - accuracy: 0.7734\n",
      "Epoch 87: saving model to model/keypoint_classifier\\keypoint_classifier.hdf5\n",
      "15/15 [==============================] - 0s 3ms/step - loss: 0.4032 - accuracy: 0.8212 - val_loss: 0.2321 - val_accuracy: 0.9547\n",
      "Epoch 88/1000\n",
      " 1/15 [=>............................] - ETA: 0s - loss: 0.4866 - accuracy: 0.8047\n",
      "Epoch 88: saving model to model/keypoint_classifier\\keypoint_classifier.hdf5\n",
      "15/15 [==============================] - 0s 3ms/step - loss: 0.3923 - accuracy: 0.8285 - val_loss: 0.2331 - val_accuracy: 0.9578\n",
      "Epoch 89/1000\n",
      " 1/15 [=>............................] - ETA: 0s - loss: 0.3067 - accuracy: 0.8672\n",
      "Epoch 89: saving model to model/keypoint_classifier\\keypoint_classifier.hdf5\n",
      "15/15 [==============================] - 0s 3ms/step - loss: 0.3940 - accuracy: 0.8332 - val_loss: 0.2314 - val_accuracy: 0.9609\n",
      "Epoch 90/1000\n",
      " 1/15 [=>............................] - ETA: 0s - loss: 0.3525 - accuracy: 0.8594\n",
      "Epoch 90: saving model to model/keypoint_classifier\\keypoint_classifier.hdf5\n",
      "15/15 [==============================] - 0s 3ms/step - loss: 0.4190 - accuracy: 0.8243 - val_loss: 0.2333 - val_accuracy: 0.9516\n",
      "Epoch 91/1000\n",
      " 1/15 [=>............................] - ETA: 0s - loss: 0.3991 - accuracy: 0.8516\n",
      "Epoch 91: saving model to model/keypoint_classifier\\keypoint_classifier.hdf5\n",
      "15/15 [==============================] - 0s 3ms/step - loss: 0.3772 - accuracy: 0.8379 - val_loss: 0.2278 - val_accuracy: 0.9625\n",
      "Epoch 92/1000\n",
      " 1/15 [=>............................] - ETA: 0s - loss: 0.3791 - accuracy: 0.8203\n",
      "Epoch 92: saving model to model/keypoint_classifier\\keypoint_classifier.hdf5\n",
      "15/15 [==============================] - 0s 3ms/step - loss: 0.4120 - accuracy: 0.8279 - val_loss: 0.2277 - val_accuracy: 0.9609\n",
      "Epoch 93/1000\n",
      " 1/15 [=>............................] - ETA: 0s - loss: 0.4448 - accuracy: 0.8125\n",
      "Epoch 93: saving model to model/keypoint_classifier\\keypoint_classifier.hdf5\n",
      "15/15 [==============================] - 0s 3ms/step - loss: 0.3933 - accuracy: 0.8337 - val_loss: 0.2298 - val_accuracy: 0.9516\n",
      "Epoch 94/1000\n",
      " 1/15 [=>............................] - ETA: 0s - loss: 0.4261 - accuracy: 0.8281\n",
      "Epoch 94: saving model to model/keypoint_classifier\\keypoint_classifier.hdf5\n",
      "15/15 [==============================] - 0s 3ms/step - loss: 0.3775 - accuracy: 0.8399 - val_loss: 0.2261 - val_accuracy: 0.9656\n",
      "Epoch 95/1000\n",
      " 1/15 [=>............................] - ETA: 0s - loss: 0.3987 - accuracy: 0.8750\n",
      "Epoch 95: saving model to model/keypoint_classifier\\keypoint_classifier.hdf5\n",
      "15/15 [==============================] - 0s 3ms/step - loss: 0.4062 - accuracy: 0.8321 - val_loss: 0.2203 - val_accuracy: 0.9656\n",
      "Epoch 96/1000\n",
      " 1/15 [=>............................] - ETA: 0s - loss: 0.3375 - accuracy: 0.8750\n",
      "Epoch 96: saving model to model/keypoint_classifier\\keypoint_classifier.hdf5\n",
      "15/15 [==============================] - 0s 3ms/step - loss: 0.3717 - accuracy: 0.8425 - val_loss: 0.2223 - val_accuracy: 0.9563\n",
      "Epoch 97/1000\n",
      " 1/15 [=>............................] - ETA: 0s - loss: 0.3587 - accuracy: 0.8516\n",
      "Epoch 97: saving model to model/keypoint_classifier\\keypoint_classifier.hdf5\n",
      "15/15 [==============================] - 0s 3ms/step - loss: 0.3530 - accuracy: 0.8561 - val_loss: 0.2213 - val_accuracy: 0.9547\n",
      "Epoch 98/1000\n",
      " 1/15 [=>............................] - ETA: 0s - loss: 0.3482 - accuracy: 0.8203\n",
      "Epoch 98: saving model to model/keypoint_classifier\\keypoint_classifier.hdf5\n",
      "15/15 [==============================] - 0s 3ms/step - loss: 0.3754 - accuracy: 0.8337 - val_loss: 0.2118 - val_accuracy: 0.9563\n",
      "Epoch 99/1000\n",
      " 1/15 [=>............................] - ETA: 0s - loss: 0.4401 - accuracy: 0.8125\n",
      "Epoch 99: saving model to model/keypoint_classifier\\keypoint_classifier.hdf5\n",
      "15/15 [==============================] - 0s 3ms/step - loss: 0.3845 - accuracy: 0.8446 - val_loss: 0.2172 - val_accuracy: 0.9547\n",
      "Epoch 100/1000\n",
      " 1/15 [=>............................] - ETA: 0s - loss: 0.3131 - accuracy: 0.8672\n",
      "Epoch 100: saving model to model/keypoint_classifier\\keypoint_classifier.hdf5\n",
      "15/15 [==============================] - 0s 3ms/step - loss: 0.3826 - accuracy: 0.8352 - val_loss: 0.2187 - val_accuracy: 0.9594\n",
      "Epoch 101/1000\n",
      " 1/15 [=>............................] - ETA: 0s - loss: 0.3395 - accuracy: 0.8750\n",
      "Epoch 101: saving model to model/keypoint_classifier\\keypoint_classifier.hdf5\n",
      "15/15 [==============================] - 0s 3ms/step - loss: 0.3803 - accuracy: 0.8358 - val_loss: 0.2180 - val_accuracy: 0.9609\n",
      "Epoch 102/1000\n",
      " 1/15 [=>............................] - ETA: 0s - loss: 0.3733 - accuracy: 0.8828\n",
      "Epoch 102: saving model to model/keypoint_classifier\\keypoint_classifier.hdf5\n",
      "15/15 [==============================] - 0s 3ms/step - loss: 0.3841 - accuracy: 0.8389 - val_loss: 0.2163 - val_accuracy: 0.9625\n",
      "Epoch 103/1000\n",
      " 1/15 [=>............................] - ETA: 0s - loss: 0.4448 - accuracy: 0.7891\n",
      "Epoch 103: saving model to model/keypoint_classifier\\keypoint_classifier.hdf5\n",
      "15/15 [==============================] - 0s 3ms/step - loss: 0.3764 - accuracy: 0.8306 - val_loss: 0.2100 - val_accuracy: 0.9625\n",
      "Epoch 104/1000\n",
      " 1/15 [=>............................] - ETA: 0s - loss: 0.4111 - accuracy: 0.8359\n",
      "Epoch 104: saving model to model/keypoint_classifier\\keypoint_classifier.hdf5\n",
      "15/15 [==============================] - 0s 4ms/step - loss: 0.3799 - accuracy: 0.8399 - val_loss: 0.2096 - val_accuracy: 0.9609\n",
      "Epoch 105/1000\n",
      " 1/15 [=>............................] - ETA: 0s - loss: 0.4397 - accuracy: 0.8047\n",
      "Epoch 105: saving model to model/keypoint_classifier\\keypoint_classifier.hdf5\n",
      "15/15 [==============================] - 0s 4ms/step - loss: 0.3709 - accuracy: 0.8415 - val_loss: 0.2076 - val_accuracy: 0.9516\n",
      "Epoch 106/1000\n",
      " 1/15 [=>............................] - ETA: 0s - loss: 0.4047 - accuracy: 0.8516\n",
      "Epoch 106: saving model to model/keypoint_classifier\\keypoint_classifier.hdf5\n",
      "15/15 [==============================] - 0s 4ms/step - loss: 0.3785 - accuracy: 0.8420 - val_loss: 0.2056 - val_accuracy: 0.9578\n",
      "Epoch 107/1000\n",
      " 1/15 [=>............................] - ETA: 0s - loss: 0.3305 - accuracy: 0.8594\n",
      "Epoch 107: saving model to model/keypoint_classifier\\keypoint_classifier.hdf5\n",
      "15/15 [==============================] - 0s 3ms/step - loss: 0.3643 - accuracy: 0.8551 - val_loss: 0.2066 - val_accuracy: 0.9578\n",
      "Epoch 108/1000\n",
      " 1/15 [=>............................] - ETA: 0s - loss: 0.4444 - accuracy: 0.8125\n",
      "Epoch 108: saving model to model/keypoint_classifier\\keypoint_classifier.hdf5\n",
      "15/15 [==============================] - 0s 3ms/step - loss: 0.3726 - accuracy: 0.8498 - val_loss: 0.2063 - val_accuracy: 0.9594\n",
      "Epoch 109/1000\n",
      " 1/15 [=>............................] - ETA: 0s - loss: 0.2900 - accuracy: 0.8828\n",
      "Epoch 109: saving model to model/keypoint_classifier\\keypoint_classifier.hdf5\n",
      "15/15 [==============================] - 0s 3ms/step - loss: 0.3492 - accuracy: 0.8535 - val_loss: 0.2068 - val_accuracy: 0.9672\n",
      "Epoch 110/1000\n",
      " 1/15 [=>............................] - ETA: 0s - loss: 0.3246 - accuracy: 0.8594\n",
      "Epoch 110: saving model to model/keypoint_classifier\\keypoint_classifier.hdf5\n",
      "15/15 [==============================] - 0s 3ms/step - loss: 0.3775 - accuracy: 0.8457 - val_loss: 0.2059 - val_accuracy: 0.9688\n",
      "Epoch 111/1000\n",
      " 1/15 [=>............................] - ETA: 0s - loss: 0.3273 - accuracy: 0.8672\n",
      "Epoch 111: saving model to model/keypoint_classifier\\keypoint_classifier.hdf5\n",
      "15/15 [==============================] - 0s 3ms/step - loss: 0.3744 - accuracy: 0.8514 - val_loss: 0.2061 - val_accuracy: 0.9641\n",
      "Epoch 112/1000\n",
      " 1/15 [=>............................] - ETA: 0s - loss: 0.3828 - accuracy: 0.8281\n",
      "Epoch 112: saving model to model/keypoint_classifier\\keypoint_classifier.hdf5\n",
      "15/15 [==============================] - 0s 3ms/step - loss: 0.3755 - accuracy: 0.8441 - val_loss: 0.2064 - val_accuracy: 0.9734\n",
      "Epoch 113/1000\n",
      " 1/15 [=>............................] - ETA: 0s - loss: 0.4030 - accuracy: 0.8516\n",
      "Epoch 113: saving model to model/keypoint_classifier\\keypoint_classifier.hdf5\n",
      "15/15 [==============================] - 0s 3ms/step - loss: 0.3695 - accuracy: 0.8358 - val_loss: 0.2059 - val_accuracy: 0.9641\n",
      "Epoch 114/1000\n",
      " 1/15 [=>............................] - ETA: 0s - loss: 0.2944 - accuracy: 0.8828\n",
      "Epoch 114: saving model to model/keypoint_classifier\\keypoint_classifier.hdf5\n",
      "15/15 [==============================] - 0s 4ms/step - loss: 0.3502 - accuracy: 0.8488 - val_loss: 0.2004 - val_accuracy: 0.9625\n",
      "Epoch 115/1000\n",
      " 1/15 [=>............................] - ETA: 0s - loss: 0.4095 - accuracy: 0.8359\n",
      "Epoch 115: saving model to model/keypoint_classifier\\keypoint_classifier.hdf5\n",
      "15/15 [==============================] - 0s 4ms/step - loss: 0.3603 - accuracy: 0.8535 - val_loss: 0.1965 - val_accuracy: 0.9672\n",
      "Epoch 116/1000\n",
      " 1/15 [=>............................] - ETA: 0s - loss: 0.3095 - accuracy: 0.8594\n",
      "Epoch 116: saving model to model/keypoint_classifier\\keypoint_classifier.hdf5\n",
      "15/15 [==============================] - 0s 4ms/step - loss: 0.3562 - accuracy: 0.8514 - val_loss: 0.1940 - val_accuracy: 0.9672\n",
      "Epoch 117/1000\n",
      " 1/15 [=>............................] - ETA: 0s - loss: 0.3147 - accuracy: 0.8438\n",
      "Epoch 117: saving model to model/keypoint_classifier\\keypoint_classifier.hdf5\n",
      "15/15 [==============================] - 0s 3ms/step - loss: 0.3574 - accuracy: 0.8488 - val_loss: 0.2028 - val_accuracy: 0.9703\n",
      "Epoch 118/1000\n",
      " 1/15 [=>............................] - ETA: 0s - loss: 0.2597 - accuracy: 0.8984\n",
      "Epoch 118: saving model to model/keypoint_classifier\\keypoint_classifier.hdf5\n",
      "15/15 [==============================] - 0s 3ms/step - loss: 0.3512 - accuracy: 0.8504 - val_loss: 0.1918 - val_accuracy: 0.9734\n",
      "Epoch 119/1000\n",
      " 1/15 [=>............................] - ETA: 0s - loss: 0.4601 - accuracy: 0.8516\n",
      "Epoch 119: saving model to model/keypoint_classifier\\keypoint_classifier.hdf5\n",
      "15/15 [==============================] - 0s 3ms/step - loss: 0.3636 - accuracy: 0.8441 - val_loss: 0.1931 - val_accuracy: 0.9750\n",
      "Epoch 120/1000\n",
      " 1/15 [=>............................] - ETA: 0s - loss: 0.3495 - accuracy: 0.8594\n",
      "Epoch 120: saving model to model/keypoint_classifier\\keypoint_classifier.hdf5\n",
      "15/15 [==============================] - 0s 4ms/step - loss: 0.3573 - accuracy: 0.8519 - val_loss: 0.2010 - val_accuracy: 0.9656\n",
      "Epoch 121/1000\n",
      " 1/15 [=>............................] - ETA: 0s - loss: 0.4352 - accuracy: 0.8203\n",
      "Epoch 121: saving model to model/keypoint_classifier\\keypoint_classifier.hdf5\n",
      "15/15 [==============================] - 0s 4ms/step - loss: 0.3678 - accuracy: 0.8467 - val_loss: 0.1999 - val_accuracy: 0.9656\n",
      "Epoch 122/1000\n",
      " 1/15 [=>............................] - ETA: 0s - loss: 0.2844 - accuracy: 0.8750\n",
      "Epoch 122: saving model to model/keypoint_classifier\\keypoint_classifier.hdf5\n",
      "15/15 [==============================] - 0s 4ms/step - loss: 0.3721 - accuracy: 0.8358 - val_loss: 0.2064 - val_accuracy: 0.9719\n",
      "Epoch 123/1000\n",
      " 1/15 [=>............................] - ETA: 0s - loss: 0.3618 - accuracy: 0.7891\n",
      "Epoch 123: saving model to model/keypoint_classifier\\keypoint_classifier.hdf5\n",
      "15/15 [==============================] - 0s 4ms/step - loss: 0.3605 - accuracy: 0.8431 - val_loss: 0.2030 - val_accuracy: 0.9672\n",
      "Epoch 124/1000\n",
      " 1/15 [=>............................] - ETA: 0s - loss: 0.3460 - accuracy: 0.8750\n",
      "Epoch 124: saving model to model/keypoint_classifier\\keypoint_classifier.hdf5\n",
      "15/15 [==============================] - 0s 3ms/step - loss: 0.3515 - accuracy: 0.8504 - val_loss: 0.1956 - val_accuracy: 0.9609\n",
      "Epoch 125/1000\n",
      " 1/15 [=>............................] - ETA: 0s - loss: 0.4644 - accuracy: 0.8125\n",
      "Epoch 125: saving model to model/keypoint_classifier\\keypoint_classifier.hdf5\n",
      "15/15 [==============================] - 0s 3ms/step - loss: 0.3702 - accuracy: 0.8457 - val_loss: 0.1927 - val_accuracy: 0.9688\n",
      "Epoch 126/1000\n",
      " 1/15 [=>............................] - ETA: 0s - loss: 0.3267 - accuracy: 0.8594\n",
      "Epoch 126: saving model to model/keypoint_classifier\\keypoint_classifier.hdf5\n",
      "15/15 [==============================] - 0s 3ms/step - loss: 0.3334 - accuracy: 0.8618 - val_loss: 0.1900 - val_accuracy: 0.9719\n",
      "Epoch 127/1000\n",
      " 1/15 [=>............................] - ETA: 0s - loss: 0.3147 - accuracy: 0.8516\n",
      "Epoch 127: saving model to model/keypoint_classifier\\keypoint_classifier.hdf5\n",
      "15/15 [==============================] - 0s 3ms/step - loss: 0.3584 - accuracy: 0.8498 - val_loss: 0.1924 - val_accuracy: 0.9578\n",
      "Epoch 128/1000\n",
      " 1/15 [=>............................] - ETA: 0s - loss: 0.2950 - accuracy: 0.8672\n",
      "Epoch 128: saving model to model/keypoint_classifier\\keypoint_classifier.hdf5\n",
      "15/15 [==============================] - 0s 3ms/step - loss: 0.3527 - accuracy: 0.8525 - val_loss: 0.2019 - val_accuracy: 0.9609\n",
      "Epoch 129/1000\n",
      " 1/15 [=>............................] - ETA: 0s - loss: 0.2681 - accuracy: 0.8984\n",
      "Epoch 129: saving model to model/keypoint_classifier\\keypoint_classifier.hdf5\n",
      "15/15 [==============================] - 0s 3ms/step - loss: 0.3631 - accuracy: 0.8462 - val_loss: 0.1988 - val_accuracy: 0.9688\n",
      "Epoch 130/1000\n",
      " 1/15 [=>............................] - ETA: 0s - loss: 0.3667 - accuracy: 0.8203\n",
      "Epoch 130: saving model to model/keypoint_classifier\\keypoint_classifier.hdf5\n",
      "15/15 [==============================] - 0s 4ms/step - loss: 0.3491 - accuracy: 0.8608 - val_loss: 0.1938 - val_accuracy: 0.9750\n",
      "Epoch 131/1000\n",
      " 1/15 [=>............................] - ETA: 0s - loss: 0.4296 - accuracy: 0.7969"
     ]
    }
   ],
   "source": [
    "model.fit(\n",
    "    X_train,\n",
    "    y_train,\n",
    "    epochs=1000,\n",
    "    batch_size=128,\n",
    "    validation_data=(X_test, y_test),\n",
    "    callbacks=[cp_callback, es_callback]\n",
    ")"
   ]
  },
  {
   "cell_type": "code",
   "execution_count": null,
   "metadata": {},
   "outputs": [
    {
     "name": "stdout",
     "output_type": "stream",
     "text": [
      "12/12 [==============================] - 0s 839us/step - loss: 0.3390 - accuracy: 0.9328\n"
     ]
    }
   ],
   "source": [
    "# モデル評価\n",
    "val_loss, val_acc = model.evaluate(X_test, y_test, batch_size=128)"
   ]
  },
  {
   "cell_type": "code",
   "execution_count": null,
   "metadata": {},
   "outputs": [],
   "source": [
    "# 保存したモデルのロード\n",
    "model = tf.keras.models.load_model(model_save_path)"
   ]
  },
  {
   "cell_type": "code",
   "execution_count": null,
   "metadata": {},
   "outputs": [
    {
     "name": "stdout",
     "output_type": "stream",
     "text": [
      "1/1 [==============================] - 0s 35ms/step\n",
      "[7.9354650e-01 7.6584159e-03 2.0951020e-07 1.8012166e-01 1.7135786e-02\n",
      " 1.5232154e-03 1.4167643e-05]\n",
      "0\n"
     ]
    }
   ],
   "source": [
    "# 推論テスト\n",
    "predict_result = model.predict(np.array([X_test[0]]))\n",
    "print(np.squeeze(predict_result))\n",
    "print(np.argmax(np.squeeze(predict_result)))"
   ]
  },
  {
   "cell_type": "markdown",
   "metadata": {},
   "source": [
    "# 混同行列"
   ]
  },
  {
   "cell_type": "code",
   "execution_count": null,
   "metadata": {},
   "outputs": [
    {
     "name": "stdout",
     "output_type": "stream",
     "text": [
      "46/46 [==============================] - 0s 591us/step\n"
     ]
    },
    {
     "data": {
      "image/png": "[encoded data removed]",
      "text/plain": [
       "<Figure size 700x600 with 2 Axes>"
      ]
     },
     "metadata": {},
     "output_type": "display_data"
    },
    {
     "name": "stdout",
     "output_type": "stream",
     "text": [
      "Classification Report\n",
      "              precision    recall  f1-score   support\n",
      "\n",
      "           0       0.94      0.97      0.96       411\n",
      "           1       0.97      0.88      0.92       394\n",
      "           2       0.88      0.98      0.92       336\n",
      "           3       0.99      1.00      0.99        84\n",
      "           4       1.00      0.74      0.85        85\n",
      "           5       0.86      0.97      0.92        39\n",
      "           6       0.89      0.96      0.92        95\n",
      "\n",
      "    accuracy                           0.93      1444\n",
      "   macro avg       0.93      0.93      0.93      1444\n",
      "weighted avg       0.94      0.93      0.93      1444\n",
      "\n"
     ]
    }
   ],
   "source": [
    "import pandas as pd\n",
    "import seaborn as sns\n",
    "import matplotlib.pyplot as plt\n",
    "from sklearn.metrics import confusion_matrix, classification_report\n",
    "\n",
    "def print_confusion_matrix(y_true, y_pred, report=True):\n",
    "    labels = sorted(list(set(y_true)))\n",
    "    cmx_data = confusion_matrix(y_true, y_pred, labels=labels)\n",
    "    \n",
    "    df_cmx = pd.DataFrame(cmx_data, index=labels, columns=labels)\n",
    " \n",
    "    fig, ax = plt.subplots(figsize=(7, 6))\n",
    "    sns.heatmap(df_cmx, annot=True, fmt='g' ,square=False)\n",
    "    ax.set_ylim(len(set(y_true)), 0)\n",
    "    plt.show()\n",
    "    \n",
    "    if report:\n",
    "        print('Classification Report')\n",
    "        print(classification_report(y_test, y_pred))\n",
    "\n",
    "Y_pred = model.predict(X_test)\n",
    "y_pred = np.argmax(Y_pred, axis=1)\n",
    "\n",
    "print_confusion_matrix(y_test, y_pred)"
   ]
  },
  {
   "cell_type": "markdown",
   "metadata": {},
   "source": [
    "# Tensorflow-Lite用のモデルへ変換"
   ]
  },
  {
   "cell_type": "code",
   "execution_count": null,
   "metadata": {},
   "outputs": [
    {
     "name": "stderr",
     "output_type": "stream",
     "text": [
      "c:\\Users\\Ck\\OneDrive\\UPD Docs\\III - Electronics Engineering\\Academic Units\\2nd Semester\\CoE 197Z\\ME4\\.venv\\lib\\site-packages\\keras\\src\\engine\\training.py:3103: UserWarning: You are saving your model as an HDF5 file via `model.save()`. This file format is considered legacy. We recommend using instead the native Keras format, e.g. `model.save('my_model.keras')`.\n",
      "  saving_api.save_model(\n"
     ]
    }
   ],
   "source": [
    "# 推論専用のモデルとして保存\n",
    "model.save(model_save_path, include_optimizer=False)"
   ]
  },
  {
   "cell_type": "code",
   "execution_count": null,
   "metadata": {},
   "outputs": [
    {
     "name": "stdout",
     "output_type": "stream",
     "text": [
      "INFO:tensorflow:Assets written to: C:\\Users\\Ck\\AppData\\Local\\Temp\\tmpx82f_z_m\\assets\n"
     ]
    },
    {
     "name": "stderr",
     "output_type": "stream",
     "text": [
      "INFO:tensorflow:Assets written to: C:\\Users\\Ck\\AppData\\Local\\Temp\\tmpx82f_z_m\\assets\n"
     ]
    },
    {
     "data": {
      "text/plain": [
       "6740"
      ]
     },
     "execution_count": 186,
     "metadata": {},
     "output_type": "execute_result"
    }
   ],
   "source": [
    "# モデルを変換(量子化)\n",
    "tflite_save_path = 'model/keypoint_classifier/keypoint_classifier.tflite'\n",
    "\n",
    "converter = tf.lite.TFLiteConverter.from_keras_model(model)\n",
    "converter.optimizations = [tf.lite.Optimize.DEFAULT]\n",
    "tflite_quantized_model = converter.convert()\n",
    "\n",
    "open(tflite_save_path, 'wb').write(tflite_quantized_model)"
   ]
  },
  {
   "cell_type": "markdown",
   "metadata": {},
   "source": [
    "# 推論テスト"
   ]
  },
  {
   "cell_type": "code",
   "execution_count": null,
   "metadata": {},
   "outputs": [],
   "source": [
    "interpreter = tf.lite.Interpreter(model_path=tflite_save_path)\n",
    "interpreter.allocate_tensors()"
   ]
  },
  {
   "cell_type": "code",
   "execution_count": null,
   "metadata": {},
   "outputs": [],
   "source": [
    "# 入出力テンソルを取得\n",
    "input_details = interpreter.get_input_details()\n",
    "output_details = interpreter.get_output_details()"
   ]
  },
  {
   "cell_type": "code",
   "execution_count": null,
   "metadata": {},
   "outputs": [],
   "source": [
    "interpreter.set_tensor(input_details[0]['index'], np.array([X_test[0]]))"
   ]
  },
  {
   "cell_type": "code",
   "execution_count": null,
   "metadata": {
    "scrolled": true
   },
   "outputs": [
    {
     "name": "stdout",
     "output_type": "stream",
     "text": [
      "CPU times: total: 0 ns\n",
      "Wall time: 1 ms\n"
     ]
    }
   ],
   "source": [
    "%%time\n",
    "# 推論実施\n",
    "interpreter.invoke()\n",
    "tflite_results = interpreter.get_tensor(output_details[0]['index'])"
   ]
  },
  {
   "cell_type": "code",
   "execution_count": null,
   "metadata": {},
   "outputs": [
    {
     "name": "stdout",
     "output_type": "stream",
     "text": [
      "[7.9354644e-01 7.6584145e-03 2.0950999e-07 1.8012181e-01 1.7135799e-02\n",
      " 1.5232138e-03 1.4167655e-05]\n",
      "0\n"
     ]
    }
   ],
   "source": [
    "print(np.squeeze(tflite_results))\n",
    "print(np.argmax(np.squeeze(tflite_results)))"
   ]
  }
 ],
 "metadata": {
  "kernelspec": {
   "display_name": ".venv",
   "language": "python",
   "name": "python3"
  },
  "language_info": {
   "codemirror_mode": {
    "name": "ipython",
    "version": 3
   },
   "file_extension": ".py",
   "mimetype": "text/x-python",
   "name": "python",
   "nbconvert_exporter": "python",
   "pygments_lexer": "ipython3",
   "version": "3.10.11"
  }
 },
 "nbformat": 4,
 "nbformat_minor": 4
}
